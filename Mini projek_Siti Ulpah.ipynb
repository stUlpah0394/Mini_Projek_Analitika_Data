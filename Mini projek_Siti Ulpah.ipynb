{
  "cells": [
    {
      "cell_type": "markdown",
      "source": [
        "## 1. Data Preprocessing"
      ],
      "metadata": {
        "id": "TFN6Of7TWe57"
      }
    },
    {
      "cell_type": "markdown",
      "source": [
        "## Overview\n",
        "\n",
        "Practice for Data Analytic Class in Merdeka Belajar \n",
        "\n",
        "## Objecive\n",
        "\n",
        "• Retrieving data \n",
        "\n",
        "• Cleansing, integrating\n",
        "dan transforming data\n",
        "\n",
        "• Data Preparation\n",
        "\n",
        "• Exploratory Data\n",
        "Analysis\n",
        "\n",
        "• Data Visualization\n"
      ],
      "metadata": {
        "id": "cvS878SumIw0"
      }
    },
    {
      "cell_type": "markdown",
      "source": [
        "**About Dataset**\n",
        "\n",
        "This is a snapshot of a dataset created by Yasir Hussein Shakir on The chronic disease indicators (CDI) data. The dataset includes YearStart, YearEd, LoccatioAbbr,  LoccatioDesc, Datasource, Toic, Questio, Resos, datavaluetye,and datavalueuit.\n",
        "\n",
        "Dataset description & download https://www.kaggle.com/datasets/yasserhessein/chronic-disease-indicators-cdi-csv"
      ],
      "metadata": {
        "id": "0EcHLMXgZr5f"
      }
    },
    {
      "cell_type": "markdown",
      "source": [
        "**1.1 Importing Library**"
      ],
      "metadata": {
        "id": "IADUBKDnWr3s"
      }
    },
    {
      "cell_type": "markdown",
      "source": [
        "pandas digunakan untuk manipulasi tabular data dan numpy digunakan untuk manipulasi angka atau numerikal data"
      ],
      "metadata": {
        "id": "H-DEXuuSf4km"
      }
    },
    {
      "cell_type": "code",
      "execution_count": 4,
      "metadata": {
        "id": "CvNhhTZtGoGV"
      },
      "outputs": [],
      "source": [
        "import pandas as pd\n",
        "import numpy as np\n",
        "import matplotlib.pyplot as plt\n",
        "from sklearn.preprocessing import LabelEncoder\n",
        "\n",
        "from sklearn.model_selection import train_test_split\n",
        "from sklearn.model_selection import cross_val_score\n",
        "from sklearn.model_selection import KFold\n",
        "from sklearn.metrics import accuracy_score"
      ]
    },
    {
      "cell_type": "markdown",
      "source": [
        "**1.2 Importing Dataset**"
      ],
      "metadata": {
        "id": "Ydt444CDW46r"
      }
    },
    {
      "cell_type": "code",
      "execution_count": 5,
      "metadata": {
        "id": "SpkeEnsdTfH3",
        "colab": {
          "base_uri": "https://localhost:8080/"
        },
        "outputId": "60f197e9-c4d6-424b-bc1a-6f5e169f4dcd"
      },
      "outputs": [
        {
          "output_type": "stream",
          "name": "stdout",
          "text": [
            "Downloading...\n",
            "From: https://drive.google.com/uc?id=1zoSTsP1n8PmYOwJuQ-13mfgHeko0fM3F\n",
            "To: /content/U.S._Chronic_Disease_Indicators__CDI_.csv\n",
            "100% 359M/359M [00:01<00:00, 237MB/s]\n"
          ]
        }
      ],
      "source": [
        "!gdown 1zoSTsP1n8PmYOwJuQ-13mfgHeko0fM3F"
      ]
    },
    {
      "cell_type": "markdown",
      "source": [
        "import data menggunakan fungsi dari Library Pandas.\n",
        "Pandas digunakan untuk memproses data, mulai pembersihan data, manipulasi data, hingga melakukan analisis data."
      ],
      "metadata": {
        "id": "mxHJNu8Se5h3"
      }
    },
    {
      "cell_type": "code",
      "source": [
        "import pandas as pd\n",
        "dataset = pd.read_csv('/content/U.S._Chronic_Disease_Indicators__CDI_.csv')\n",
        "dataset"
      ],
      "metadata": {
        "colab": {
          "base_uri": "https://localhost:8080/",
          "height": 888
        },
        "id": "N0fME_84YBzx",
        "outputId": "5c9e0ad9-c3df-47cf-e9ea-efc83c840dd9"
      },
      "execution_count": 6,
      "outputs": [
        {
          "output_type": "stream",
          "name": "stderr",
          "text": [
            "<ipython-input-6-a1dd4c4a48ed>:2: DtypeWarning: Columns (10) have mixed types. Specify dtype option on import or set low_memory=False.\n",
            "  dataset = pd.read_csv('/content/U.S._Chronic_Disease_Indicators__CDI_.csv')\n"
          ]
        },
        {
          "output_type": "execute_result",
          "data": {
            "text/plain": [
              "         YearStart  YearEnd LocationAbbr          LocationDesc DataSource  \\\n",
              "0             2014     2014           AR              Arkansas  SEDD; SID   \n",
              "1             2018     2018           CO              Colorado  SEDD; SID   \n",
              "2             2018     2018           DC  District of Columbia  SEDD; SID   \n",
              "3             2017     2017           GA               Georgia  SEDD; SID   \n",
              "4             2010     2010           MI              Michigan  SEDD; SID   \n",
              "...            ...      ...          ...                   ...        ...   \n",
              "1185671       2020     2020           WY               Wyoming      BRFSS   \n",
              "1185672       2020     2020           WY               Wyoming      BRFSS   \n",
              "1185673       2017     2017           IA                  Iowa      BRFSS   \n",
              "1185674       2020     2020           WY               Wyoming      BRFSS   \n",
              "1185675       2019     2019           RI          Rhode Island      BRFSS   \n",
              "\n",
              "                Topic                                           Question  \\\n",
              "0              Asthma                        Hospitalizations for asthma   \n",
              "1              Asthma                        Hospitalizations for asthma   \n",
              "2              Asthma                        Hospitalizations for asthma   \n",
              "3              Asthma                        Hospitalizations for asthma   \n",
              "4              Asthma                        Hospitalizations for asthma   \n",
              "...               ...                                                ...   \n",
              "1185671      Diabetes  Dilated eye examination among adults aged >= 1...   \n",
              "1185672  Older Adults  Proportion of older adults aged >= 65 years wh...   \n",
              "1185673     Arthritis  Activity limitation due to arthritis among adu...   \n",
              "1185674      Diabetes   Diabetes prevalence among women aged 18-44 years   \n",
              "1185675     Arthritis  Activity limitation due to arthritis among adu...   \n",
              "\n",
              "         Response DataValueUnit            DataValueType  ... LocationID  \\\n",
              "0             NaN           NaN                   Number  ...          5   \n",
              "1             NaN           NaN                   Number  ...          8   \n",
              "2             NaN           NaN                   Number  ...         11   \n",
              "3             NaN           NaN                   Number  ...         13   \n",
              "4             NaN           NaN                   Number  ...         26   \n",
              "...           ...           ...                      ...  ...        ...   \n",
              "1185671       NaN             %  Age-adjusted Prevalence  ...         56   \n",
              "1185672       NaN             %         Crude Prevalence  ...         56   \n",
              "1185673       NaN             %  Age-adjusted Prevalence  ...         19   \n",
              "1185674       NaN             %         Crude Prevalence  ...         56   \n",
              "1185675       NaN             %         Crude Prevalence  ...         44   \n",
              "\n",
              "         TopicID QuestionID DataValueTypeID  StratificationCategoryID1  \\\n",
              "0            AST     AST3_1            NMBR                     GENDER   \n",
              "1            AST     AST3_1            NMBR                    OVERALL   \n",
              "2            AST     AST3_1            NMBR                    OVERALL   \n",
              "3            AST     AST3_1            NMBR                     GENDER   \n",
              "4            AST     AST3_1            NMBR                       RACE   \n",
              "...          ...        ...             ...                        ...   \n",
              "1185671      DIA     DIA7_0      AGEADJPREV                       RACE   \n",
              "1185672      OLD     OLD3_1         CRDPREV                       RACE   \n",
              "1185673      ART     ART2_1      AGEADJPREV                       RACE   \n",
              "1185674      DIA     DIA2_2         CRDPREV                       RACE   \n",
              "1185675      ART     ART2_1         CRDPREV                    OVERALL   \n",
              "\n",
              "         StratificationID1 StratificationCategoryID2 StratificationID2  \\\n",
              "0                     GENM                       NaN               NaN   \n",
              "1                      OVR                       NaN               NaN   \n",
              "2                      OVR                       NaN               NaN   \n",
              "3                     GENF                       NaN               NaN   \n",
              "4                      HIS                       NaN               NaN   \n",
              "...                    ...                       ...               ...   \n",
              "1185671                WHT                       NaN               NaN   \n",
              "1185672                WHT                       NaN               NaN   \n",
              "1185673                HIS                       NaN               NaN   \n",
              "1185674                HIS                       NaN               NaN   \n",
              "1185675                OVR                       NaN               NaN   \n",
              "\n",
              "         StratificationCategoryID3  StratificationID3  \n",
              "0                              NaN                NaN  \n",
              "1                              NaN                NaN  \n",
              "2                              NaN                NaN  \n",
              "3                              NaN                NaN  \n",
              "4                              NaN                NaN  \n",
              "...                            ...                ...  \n",
              "1185671                        NaN                NaN  \n",
              "1185672                        NaN                NaN  \n",
              "1185673                        NaN                NaN  \n",
              "1185674                        NaN                NaN  \n",
              "1185675                        NaN                NaN  \n",
              "\n",
              "[1185676 rows x 34 columns]"
            ],
            "text/html": [
              "\n",
              "  <div id=\"df-27eb54df-a904-453f-a4ff-6edb84fdfbf2\">\n",
              "    <div class=\"colab-df-container\">\n",
              "      <div>\n",
              "<style scoped>\n",
              "    .dataframe tbody tr th:only-of-type {\n",
              "        vertical-align: middle;\n",
              "    }\n",
              "\n",
              "    .dataframe tbody tr th {\n",
              "        vertical-align: top;\n",
              "    }\n",
              "\n",
              "    .dataframe thead th {\n",
              "        text-align: right;\n",
              "    }\n",
              "</style>\n",
              "<table border=\"1\" class=\"dataframe\">\n",
              "  <thead>\n",
              "    <tr style=\"text-align: right;\">\n",
              "      <th></th>\n",
              "      <th>YearStart</th>\n",
              "      <th>YearEnd</th>\n",
              "      <th>LocationAbbr</th>\n",
              "      <th>LocationDesc</th>\n",
              "      <th>DataSource</th>\n",
              "      <th>Topic</th>\n",
              "      <th>Question</th>\n",
              "      <th>Response</th>\n",
              "      <th>DataValueUnit</th>\n",
              "      <th>DataValueType</th>\n",
              "      <th>...</th>\n",
              "      <th>LocationID</th>\n",
              "      <th>TopicID</th>\n",
              "      <th>QuestionID</th>\n",
              "      <th>DataValueTypeID</th>\n",
              "      <th>StratificationCategoryID1</th>\n",
              "      <th>StratificationID1</th>\n",
              "      <th>StratificationCategoryID2</th>\n",
              "      <th>StratificationID2</th>\n",
              "      <th>StratificationCategoryID3</th>\n",
              "      <th>StratificationID3</th>\n",
              "    </tr>\n",
              "  </thead>\n",
              "  <tbody>\n",
              "    <tr>\n",
              "      <th>0</th>\n",
              "      <td>2014</td>\n",
              "      <td>2014</td>\n",
              "      <td>AR</td>\n",
              "      <td>Arkansas</td>\n",
              "      <td>SEDD; SID</td>\n",
              "      <td>Asthma</td>\n",
              "      <td>Hospitalizations for asthma</td>\n",
              "      <td>NaN</td>\n",
              "      <td>NaN</td>\n",
              "      <td>Number</td>\n",
              "      <td>...</td>\n",
              "      <td>5</td>\n",
              "      <td>AST</td>\n",
              "      <td>AST3_1</td>\n",
              "      <td>NMBR</td>\n",
              "      <td>GENDER</td>\n",
              "      <td>GENM</td>\n",
              "      <td>NaN</td>\n",
              "      <td>NaN</td>\n",
              "      <td>NaN</td>\n",
              "      <td>NaN</td>\n",
              "    </tr>\n",
              "    <tr>\n",
              "      <th>1</th>\n",
              "      <td>2018</td>\n",
              "      <td>2018</td>\n",
              "      <td>CO</td>\n",
              "      <td>Colorado</td>\n",
              "      <td>SEDD; SID</td>\n",
              "      <td>Asthma</td>\n",
              "      <td>Hospitalizations for asthma</td>\n",
              "      <td>NaN</td>\n",
              "      <td>NaN</td>\n",
              "      <td>Number</td>\n",
              "      <td>...</td>\n",
              "      <td>8</td>\n",
              "      <td>AST</td>\n",
              "      <td>AST3_1</td>\n",
              "      <td>NMBR</td>\n",
              "      <td>OVERALL</td>\n",
              "      <td>OVR</td>\n",
              "      <td>NaN</td>\n",
              "      <td>NaN</td>\n",
              "      <td>NaN</td>\n",
              "      <td>NaN</td>\n",
              "    </tr>\n",
              "    <tr>\n",
              "      <th>2</th>\n",
              "      <td>2018</td>\n",
              "      <td>2018</td>\n",
              "      <td>DC</td>\n",
              "      <td>District of Columbia</td>\n",
              "      <td>SEDD; SID</td>\n",
              "      <td>Asthma</td>\n",
              "      <td>Hospitalizations for asthma</td>\n",
              "      <td>NaN</td>\n",
              "      <td>NaN</td>\n",
              "      <td>Number</td>\n",
              "      <td>...</td>\n",
              "      <td>11</td>\n",
              "      <td>AST</td>\n",
              "      <td>AST3_1</td>\n",
              "      <td>NMBR</td>\n",
              "      <td>OVERALL</td>\n",
              "      <td>OVR</td>\n",
              "      <td>NaN</td>\n",
              "      <td>NaN</td>\n",
              "      <td>NaN</td>\n",
              "      <td>NaN</td>\n",
              "    </tr>\n",
              "    <tr>\n",
              "      <th>3</th>\n",
              "      <td>2017</td>\n",
              "      <td>2017</td>\n",
              "      <td>GA</td>\n",
              "      <td>Georgia</td>\n",
              "      <td>SEDD; SID</td>\n",
              "      <td>Asthma</td>\n",
              "      <td>Hospitalizations for asthma</td>\n",
              "      <td>NaN</td>\n",
              "      <td>NaN</td>\n",
              "      <td>Number</td>\n",
              "      <td>...</td>\n",
              "      <td>13</td>\n",
              "      <td>AST</td>\n",
              "      <td>AST3_1</td>\n",
              "      <td>NMBR</td>\n",
              "      <td>GENDER</td>\n",
              "      <td>GENF</td>\n",
              "      <td>NaN</td>\n",
              "      <td>NaN</td>\n",
              "      <td>NaN</td>\n",
              "      <td>NaN</td>\n",
              "    </tr>\n",
              "    <tr>\n",
              "      <th>4</th>\n",
              "      <td>2010</td>\n",
              "      <td>2010</td>\n",
              "      <td>MI</td>\n",
              "      <td>Michigan</td>\n",
              "      <td>SEDD; SID</td>\n",
              "      <td>Asthma</td>\n",
              "      <td>Hospitalizations for asthma</td>\n",
              "      <td>NaN</td>\n",
              "      <td>NaN</td>\n",
              "      <td>Number</td>\n",
              "      <td>...</td>\n",
              "      <td>26</td>\n",
              "      <td>AST</td>\n",
              "      <td>AST3_1</td>\n",
              "      <td>NMBR</td>\n",
              "      <td>RACE</td>\n",
              "      <td>HIS</td>\n",
              "      <td>NaN</td>\n",
              "      <td>NaN</td>\n",
              "      <td>NaN</td>\n",
              "      <td>NaN</td>\n",
              "    </tr>\n",
              "    <tr>\n",
              "      <th>...</th>\n",
              "      <td>...</td>\n",
              "      <td>...</td>\n",
              "      <td>...</td>\n",
              "      <td>...</td>\n",
              "      <td>...</td>\n",
              "      <td>...</td>\n",
              "      <td>...</td>\n",
              "      <td>...</td>\n",
              "      <td>...</td>\n",
              "      <td>...</td>\n",
              "      <td>...</td>\n",
              "      <td>...</td>\n",
              "      <td>...</td>\n",
              "      <td>...</td>\n",
              "      <td>...</td>\n",
              "      <td>...</td>\n",
              "      <td>...</td>\n",
              "      <td>...</td>\n",
              "      <td>...</td>\n",
              "      <td>...</td>\n",
              "      <td>...</td>\n",
              "    </tr>\n",
              "    <tr>\n",
              "      <th>1185671</th>\n",
              "      <td>2020</td>\n",
              "      <td>2020</td>\n",
              "      <td>WY</td>\n",
              "      <td>Wyoming</td>\n",
              "      <td>BRFSS</td>\n",
              "      <td>Diabetes</td>\n",
              "      <td>Dilated eye examination among adults aged &gt;= 1...</td>\n",
              "      <td>NaN</td>\n",
              "      <td>%</td>\n",
              "      <td>Age-adjusted Prevalence</td>\n",
              "      <td>...</td>\n",
              "      <td>56</td>\n",
              "      <td>DIA</td>\n",
              "      <td>DIA7_0</td>\n",
              "      <td>AGEADJPREV</td>\n",
              "      <td>RACE</td>\n",
              "      <td>WHT</td>\n",
              "      <td>NaN</td>\n",
              "      <td>NaN</td>\n",
              "      <td>NaN</td>\n",
              "      <td>NaN</td>\n",
              "    </tr>\n",
              "    <tr>\n",
              "      <th>1185672</th>\n",
              "      <td>2020</td>\n",
              "      <td>2020</td>\n",
              "      <td>WY</td>\n",
              "      <td>Wyoming</td>\n",
              "      <td>BRFSS</td>\n",
              "      <td>Older Adults</td>\n",
              "      <td>Proportion of older adults aged &gt;= 65 years wh...</td>\n",
              "      <td>NaN</td>\n",
              "      <td>%</td>\n",
              "      <td>Crude Prevalence</td>\n",
              "      <td>...</td>\n",
              "      <td>56</td>\n",
              "      <td>OLD</td>\n",
              "      <td>OLD3_1</td>\n",
              "      <td>CRDPREV</td>\n",
              "      <td>RACE</td>\n",
              "      <td>WHT</td>\n",
              "      <td>NaN</td>\n",
              "      <td>NaN</td>\n",
              "      <td>NaN</td>\n",
              "      <td>NaN</td>\n",
              "    </tr>\n",
              "    <tr>\n",
              "      <th>1185673</th>\n",
              "      <td>2017</td>\n",
              "      <td>2017</td>\n",
              "      <td>IA</td>\n",
              "      <td>Iowa</td>\n",
              "      <td>BRFSS</td>\n",
              "      <td>Arthritis</td>\n",
              "      <td>Activity limitation due to arthritis among adu...</td>\n",
              "      <td>NaN</td>\n",
              "      <td>%</td>\n",
              "      <td>Age-adjusted Prevalence</td>\n",
              "      <td>...</td>\n",
              "      <td>19</td>\n",
              "      <td>ART</td>\n",
              "      <td>ART2_1</td>\n",
              "      <td>AGEADJPREV</td>\n",
              "      <td>RACE</td>\n",
              "      <td>HIS</td>\n",
              "      <td>NaN</td>\n",
              "      <td>NaN</td>\n",
              "      <td>NaN</td>\n",
              "      <td>NaN</td>\n",
              "    </tr>\n",
              "    <tr>\n",
              "      <th>1185674</th>\n",
              "      <td>2020</td>\n",
              "      <td>2020</td>\n",
              "      <td>WY</td>\n",
              "      <td>Wyoming</td>\n",
              "      <td>BRFSS</td>\n",
              "      <td>Diabetes</td>\n",
              "      <td>Diabetes prevalence among women aged 18-44 years</td>\n",
              "      <td>NaN</td>\n",
              "      <td>%</td>\n",
              "      <td>Crude Prevalence</td>\n",
              "      <td>...</td>\n",
              "      <td>56</td>\n",
              "      <td>DIA</td>\n",
              "      <td>DIA2_2</td>\n",
              "      <td>CRDPREV</td>\n",
              "      <td>RACE</td>\n",
              "      <td>HIS</td>\n",
              "      <td>NaN</td>\n",
              "      <td>NaN</td>\n",
              "      <td>NaN</td>\n",
              "      <td>NaN</td>\n",
              "    </tr>\n",
              "    <tr>\n",
              "      <th>1185675</th>\n",
              "      <td>2019</td>\n",
              "      <td>2019</td>\n",
              "      <td>RI</td>\n",
              "      <td>Rhode Island</td>\n",
              "      <td>BRFSS</td>\n",
              "      <td>Arthritis</td>\n",
              "      <td>Activity limitation due to arthritis among adu...</td>\n",
              "      <td>NaN</td>\n",
              "      <td>%</td>\n",
              "      <td>Crude Prevalence</td>\n",
              "      <td>...</td>\n",
              "      <td>44</td>\n",
              "      <td>ART</td>\n",
              "      <td>ART2_1</td>\n",
              "      <td>CRDPREV</td>\n",
              "      <td>OVERALL</td>\n",
              "      <td>OVR</td>\n",
              "      <td>NaN</td>\n",
              "      <td>NaN</td>\n",
              "      <td>NaN</td>\n",
              "      <td>NaN</td>\n",
              "    </tr>\n",
              "  </tbody>\n",
              "</table>\n",
              "<p>1185676 rows × 34 columns</p>\n",
              "</div>\n",
              "      <button class=\"colab-df-convert\" onclick=\"convertToInteractive('df-27eb54df-a904-453f-a4ff-6edb84fdfbf2')\"\n",
              "              title=\"Convert this dataframe to an interactive table.\"\n",
              "              style=\"display:none;\">\n",
              "        \n",
              "  <svg xmlns=\"http://www.w3.org/2000/svg\" height=\"24px\"viewBox=\"0 0 24 24\"\n",
              "       width=\"24px\">\n",
              "    <path d=\"M0 0h24v24H0V0z\" fill=\"none\"/>\n",
              "    <path d=\"M18.56 5.44l.94 2.06.94-2.06 2.06-.94-2.06-.94-.94-2.06-.94 2.06-2.06.94zm-11 1L8.5 8.5l.94-2.06 2.06-.94-2.06-.94L8.5 2.5l-.94 2.06-2.06.94zm10 10l.94 2.06.94-2.06 2.06-.94-2.06-.94-.94-2.06-.94 2.06-2.06.94z\"/><path d=\"M17.41 7.96l-1.37-1.37c-.4-.4-.92-.59-1.43-.59-.52 0-1.04.2-1.43.59L10.3 9.45l-7.72 7.72c-.78.78-.78 2.05 0 2.83L4 21.41c.39.39.9.59 1.41.59.51 0 1.02-.2 1.41-.59l7.78-7.78 2.81-2.81c.8-.78.8-2.07 0-2.86zM5.41 20L4 18.59l7.72-7.72 1.47 1.35L5.41 20z\"/>\n",
              "  </svg>\n",
              "      </button>\n",
              "      \n",
              "  <style>\n",
              "    .colab-df-container {\n",
              "      display:flex;\n",
              "      flex-wrap:wrap;\n",
              "      gap: 12px;\n",
              "    }\n",
              "\n",
              "    .colab-df-convert {\n",
              "      background-color: #E8F0FE;\n",
              "      border: none;\n",
              "      border-radius: 50%;\n",
              "      cursor: pointer;\n",
              "      display: none;\n",
              "      fill: #1967D2;\n",
              "      height: 32px;\n",
              "      padding: 0 0 0 0;\n",
              "      width: 32px;\n",
              "    }\n",
              "\n",
              "    .colab-df-convert:hover {\n",
              "      background-color: #E2EBFA;\n",
              "      box-shadow: 0px 1px 2px rgba(60, 64, 67, 0.3), 0px 1px 3px 1px rgba(60, 64, 67, 0.15);\n",
              "      fill: #174EA6;\n",
              "    }\n",
              "\n",
              "    [theme=dark] .colab-df-convert {\n",
              "      background-color: #3B4455;\n",
              "      fill: #D2E3FC;\n",
              "    }\n",
              "\n",
              "    [theme=dark] .colab-df-convert:hover {\n",
              "      background-color: #434B5C;\n",
              "      box-shadow: 0px 1px 3px 1px rgba(0, 0, 0, 0.15);\n",
              "      filter: drop-shadow(0px 1px 2px rgba(0, 0, 0, 0.3));\n",
              "      fill: #FFFFFF;\n",
              "    }\n",
              "  </style>\n",
              "\n",
              "      <script>\n",
              "        const buttonEl =\n",
              "          document.querySelector('#df-27eb54df-a904-453f-a4ff-6edb84fdfbf2 button.colab-df-convert');\n",
              "        buttonEl.style.display =\n",
              "          google.colab.kernel.accessAllowed ? 'block' : 'none';\n",
              "\n",
              "        async function convertToInteractive(key) {\n",
              "          const element = document.querySelector('#df-27eb54df-a904-453f-a4ff-6edb84fdfbf2');\n",
              "          const dataTable =\n",
              "            await google.colab.kernel.invokeFunction('convertToInteractive',\n",
              "                                                     [key], {});\n",
              "          if (!dataTable) return;\n",
              "\n",
              "          const docLinkHtml = 'Like what you see? Visit the ' +\n",
              "            '<a target=\"_blank\" href=https://colab.research.google.com/notebooks/data_table.ipynb>data table notebook</a>'\n",
              "            + ' to learn more about interactive tables.';\n",
              "          element.innerHTML = '';\n",
              "          dataTable['output_type'] = 'display_data';\n",
              "          await google.colab.output.renderOutput(dataTable, element);\n",
              "          const docLink = document.createElement('div');\n",
              "          docLink.innerHTML = docLinkHtml;\n",
              "          element.appendChild(docLink);\n",
              "        }\n",
              "      </script>\n",
              "    </div>\n",
              "  </div>\n",
              "  "
            ]
          },
          "metadata": {},
          "execution_count": 6
        }
      ]
    },
    {
      "cell_type": "markdown",
      "source": [
        "## 2. Exploratory Data"
      ],
      "metadata": {
        "id": "UDDwMkOVdAS-"
      }
    },
    {
      "cell_type": "markdown",
      "source": [
        "untuk mengetahui ukuran dataset digunakan funtion shape untuk mencari tahu panjang atau berapa banyak data poin dan picture yang ada pada data tersebut"
      ],
      "metadata": {
        "id": "NUkHMMlshBWS"
      }
    },
    {
      "cell_type": "code",
      "source": [
        "dataset.shape"
      ],
      "metadata": {
        "colab": {
          "base_uri": "https://localhost:8080/"
        },
        "id": "gfY3IjMzdDsN",
        "outputId": "147c6c80-bc37-4a65-861a-b345a2e34441"
      },
      "execution_count": 7,
      "outputs": [
        {
          "output_type": "execute_result",
          "data": {
            "text/plain": [
              "(1185676, 34)"
            ]
          },
          "metadata": {},
          "execution_count": 7
        }
      ]
    },
    {
      "cell_type": "markdown",
      "source": [
        "dataset.columns digunakan untuk menampilkan nama-nama kolom data tersebut"
      ],
      "metadata": {
        "id": "rV3Ambf5hGU6"
      }
    },
    {
      "cell_type": "code",
      "source": [
        "dataset.columns"
      ],
      "metadata": {
        "colab": {
          "base_uri": "https://localhost:8080/"
        },
        "id": "v2bT3bcCdad5",
        "outputId": "6c620721-b332-4691-f61b-4757c47621dc"
      },
      "execution_count": 8,
      "outputs": [
        {
          "output_type": "execute_result",
          "data": {
            "text/plain": [
              "Index(['YearStart', 'YearEnd', 'LocationAbbr', 'LocationDesc', 'DataSource',\n",
              "       'Topic', 'Question', 'Response', 'DataValueUnit', 'DataValueType',\n",
              "       'DataValue', 'DataValueAlt', 'DataValueFootnoteSymbol',\n",
              "       'DatavalueFootnote', 'LowConfidenceLimit', 'HighConfidenceLimit',\n",
              "       'StratificationCategory1', 'Stratification1', 'StratificationCategory2',\n",
              "       'Stratification2', 'StratificationCategory3', 'Stratification3',\n",
              "       'GeoLocation', 'ResponseID', 'LocationID', 'TopicID', 'QuestionID',\n",
              "       'DataValueTypeID', 'StratificationCategoryID1', 'StratificationID1',\n",
              "       'StratificationCategoryID2', 'StratificationID2',\n",
              "       'StratificationCategoryID3', 'StratificationID3'],\n",
              "      dtype='object')"
            ]
          },
          "metadata": {},
          "execution_count": 8
        }
      ]
    },
    {
      "cell_type": "markdown",
      "source": [
        "untuk mengetahui tipe data dari masing-masing kolom apakah data tersebut string, numerikal data, atau yang lainnya digunakan funtion dataset.dtypes\n"
      ],
      "metadata": {
        "id": "oHTTKEaehaRc"
      }
    },
    {
      "cell_type": "code",
      "source": [
        "dataset.dtypes"
      ],
      "metadata": {
        "colab": {
          "base_uri": "https://localhost:8080/"
        },
        "id": "DGucyPqGdstV",
        "outputId": "77d57f0d-0a24-4136-b155-b56dd1c6763c"
      },
      "execution_count": 9,
      "outputs": [
        {
          "output_type": "execute_result",
          "data": {
            "text/plain": [
              "YearStart                      int64\n",
              "YearEnd                        int64\n",
              "LocationAbbr                  object\n",
              "LocationDesc                  object\n",
              "DataSource                    object\n",
              "Topic                         object\n",
              "Question                      object\n",
              "Response                     float64\n",
              "DataValueUnit                 object\n",
              "DataValueType                 object\n",
              "DataValue                     object\n",
              "DataValueAlt                 float64\n",
              "DataValueFootnoteSymbol       object\n",
              "DatavalueFootnote             object\n",
              "LowConfidenceLimit           float64\n",
              "HighConfidenceLimit          float64\n",
              "StratificationCategory1       object\n",
              "Stratification1               object\n",
              "StratificationCategory2      float64\n",
              "Stratification2              float64\n",
              "StratificationCategory3      float64\n",
              "Stratification3              float64\n",
              "GeoLocation                   object\n",
              "ResponseID                   float64\n",
              "LocationID                     int64\n",
              "TopicID                       object\n",
              "QuestionID                    object\n",
              "DataValueTypeID               object\n",
              "StratificationCategoryID1     object\n",
              "StratificationID1             object\n",
              "StratificationCategoryID2    float64\n",
              "StratificationID2            float64\n",
              "StratificationCategoryID3    float64\n",
              "StratificationID3            float64\n",
              "dtype: object"
            ]
          },
          "metadata": {},
          "execution_count": 9
        }
      ]
    },
    {
      "cell_type": "markdown",
      "source": [
        "untuk mengetahui apakah dataset yang digunakan terdapat missing value atau tidak digunakan funtion dataset.info seperti berikut"
      ],
      "metadata": {
        "id": "5xEaxWe2h-D_"
      }
    },
    {
      "cell_type": "code",
      "source": [
        "dataset.info()"
      ],
      "metadata": {
        "colab": {
          "base_uri": "https://localhost:8080/"
        },
        "id": "R5lpoJMgdqdl",
        "outputId": "15dcb27d-1dfb-42f3-9f75-ff99c770df36"
      },
      "execution_count": 10,
      "outputs": [
        {
          "output_type": "stream",
          "name": "stdout",
          "text": [
            "<class 'pandas.core.frame.DataFrame'>\n",
            "RangeIndex: 1185676 entries, 0 to 1185675\n",
            "Data columns (total 34 columns):\n",
            " #   Column                     Non-Null Count    Dtype  \n",
            "---  ------                     --------------    -----  \n",
            " 0   YearStart                  1185676 non-null  int64  \n",
            " 1   YearEnd                    1185676 non-null  int64  \n",
            " 2   LocationAbbr               1185676 non-null  object \n",
            " 3   LocationDesc               1185676 non-null  object \n",
            " 4   DataSource                 1185676 non-null  object \n",
            " 5   Topic                      1185676 non-null  object \n",
            " 6   Question                   1185676 non-null  object \n",
            " 7   Response                   0 non-null        float64\n",
            " 8   DataValueUnit              1033553 non-null  object \n",
            " 9   DataValueType              1185676 non-null  object \n",
            " 10  DataValue                  806942 non-null   object \n",
            " 11  DataValueAlt               804578 non-null   float64\n",
            " 12  DataValueFootnoteSymbol    393710 non-null   object \n",
            " 13  DatavalueFootnote          393710 non-null   object \n",
            " 14  LowConfidenceLimit         682380 non-null   float64\n",
            " 15  HighConfidenceLimit        682380 non-null   float64\n",
            " 16  StratificationCategory1    1185676 non-null  object \n",
            " 17  Stratification1            1185676 non-null  object \n",
            " 18  StratificationCategory2    0 non-null        float64\n",
            " 19  Stratification2            0 non-null        float64\n",
            " 20  StratificationCategory3    0 non-null        float64\n",
            " 21  Stratification3            0 non-null        float64\n",
            " 22  GeoLocation                1175510 non-null  object \n",
            " 23  ResponseID                 0 non-null        float64\n",
            " 24  LocationID                 1185676 non-null  int64  \n",
            " 25  TopicID                    1185676 non-null  object \n",
            " 26  QuestionID                 1185676 non-null  object \n",
            " 27  DataValueTypeID            1185676 non-null  object \n",
            " 28  StratificationCategoryID1  1185676 non-null  object \n",
            " 29  StratificationID1          1185676 non-null  object \n",
            " 30  StratificationCategoryID2  0 non-null        float64\n",
            " 31  StratificationID2          0 non-null        float64\n",
            " 32  StratificationCategoryID3  0 non-null        float64\n",
            " 33  StratificationID3          0 non-null        float64\n",
            "dtypes: float64(13), int64(3), object(18)\n",
            "memory usage: 307.6+ MB\n"
          ]
        }
      ]
    },
    {
      "cell_type": "markdown",
      "source": [
        "untuk mengetahui ada uniq value apa saja yang terdapat pada data dapat menggunakan funtion dataset.nunique. uniq value digunakan untuk mengecek picture mana yang akan digunakan sebagai label atau "
      ],
      "metadata": {
        "id": "5-xvNW9xi8ss"
      }
    },
    {
      "cell_type": "code",
      "source": [
        "dataset.nunique()"
      ],
      "metadata": {
        "colab": {
          "base_uri": "https://localhost:8080/"
        },
        "id": "iAJrbGiuf-8c",
        "outputId": "83101d0e-16e2-4afe-d6c1-56e0d9ae073c"
      },
      "execution_count": 11,
      "outputs": [
        {
          "output_type": "execute_result",
          "data": {
            "text/plain": [
              "YearStart                       16\n",
              "YearEnd                         16\n",
              "LocationAbbr                    55\n",
              "LocationDesc                    55\n",
              "DataSource                      31\n",
              "Topic                           17\n",
              "Question                       203\n",
              "Response                         0\n",
              "DataValueUnit                   12\n",
              "DataValueType                   19\n",
              "DataValue                    50436\n",
              "DataValueAlt                 41213\n",
              "DataValueFootnoteSymbol         17\n",
              "DatavalueFootnote               18\n",
              "LowConfidenceLimit           22464\n",
              "HighConfidenceLimit          24000\n",
              "StratificationCategory1          3\n",
              "Stratification1                 11\n",
              "StratificationCategory2          0\n",
              "Stratification2                  0\n",
              "StratificationCategory3          0\n",
              "Stratification3                  0\n",
              "GeoLocation                     54\n",
              "ResponseID                       0\n",
              "LocationID                      55\n",
              "TopicID                         17\n",
              "QuestionID                     203\n",
              "DataValueTypeID                 19\n",
              "StratificationCategoryID1        3\n",
              "StratificationID1               13\n",
              "StratificationCategoryID2        0\n",
              "StratificationID2                0\n",
              "StratificationCategoryID3        0\n",
              "StratificationID3                0\n",
              "dtype: int64"
            ]
          },
          "metadata": {},
          "execution_count": 11
        }
      ]
    },
    {
      "cell_type": "markdown",
      "source": [
        "**2.1 Handling Missing Value**"
      ],
      "metadata": {
        "id": "SsvcPPw9ekvS"
      }
    },
    {
      "cell_type": "markdown",
      "source": [
        "setelah mengetahui terdapat missing value pada data yang akan dianalisis selanjutnya yaitu menghilangkan missing value tersebut dengan cara pertama mencari tahu jumlah data yang terdapat missing value tersebut, adapun funtion yang digunakan yaitu dataset.isnul().sum()"
      ],
      "metadata": {
        "id": "tkkOl04Ee_xV"
      }
    },
    {
      "cell_type": "code",
      "source": [
        "dataset.isnull().sum()"
      ],
      "metadata": {
        "colab": {
          "base_uri": "https://localhost:8080/"
        },
        "id": "rsrJsSO8fW7M",
        "outputId": "b1f7dc6c-b3bd-452e-fac1-3d68e50176b7"
      },
      "execution_count": 12,
      "outputs": [
        {
          "output_type": "execute_result",
          "data": {
            "text/plain": [
              "YearStart                          0\n",
              "YearEnd                            0\n",
              "LocationAbbr                       0\n",
              "LocationDesc                       0\n",
              "DataSource                         0\n",
              "Topic                              0\n",
              "Question                           0\n",
              "Response                     1185676\n",
              "DataValueUnit                 152123\n",
              "DataValueType                      0\n",
              "DataValue                     378734\n",
              "DataValueAlt                  381098\n",
              "DataValueFootnoteSymbol       791966\n",
              "DatavalueFootnote             791966\n",
              "LowConfidenceLimit            503296\n",
              "HighConfidenceLimit           503296\n",
              "StratificationCategory1            0\n",
              "Stratification1                    0\n",
              "StratificationCategory2      1185676\n",
              "Stratification2              1185676\n",
              "StratificationCategory3      1185676\n",
              "Stratification3              1185676\n",
              "GeoLocation                    10166\n",
              "ResponseID                   1185676\n",
              "LocationID                         0\n",
              "TopicID                            0\n",
              "QuestionID                         0\n",
              "DataValueTypeID                    0\n",
              "StratificationCategoryID1          0\n",
              "StratificationID1                  0\n",
              "StratificationCategoryID2    1185676\n",
              "StratificationID2            1185676\n",
              "StratificationCategoryID3    1185676\n",
              "StratificationID3            1185676\n",
              "dtype: int64"
            ]
          },
          "metadata": {},
          "execution_count": 12
        }
      ]
    },
    {
      "cell_type": "markdown",
      "source": [
        "setelah mengetahui data yang terdapat missing value, selanjutnya memeriksa data yang terdapat missing value tersebut apakah bersipat numerical data atau bersipat string"
      ],
      "metadata": {
        "id": "5mx2KE9Bk4BU"
      }
    },
    {
      "cell_type": "code",
      "source": [
        "dataset['Response'].dtypes"
      ],
      "metadata": {
        "colab": {
          "base_uri": "https://localhost:8080/"
        },
        "id": "hw2FxOlorXI8",
        "outputId": "d25ff646-0162-47a0-e785-2a3d7caef6f5"
      },
      "execution_count": 13,
      "outputs": [
        {
          "output_type": "execute_result",
          "data": {
            "text/plain": [
              "dtype('float64')"
            ]
          },
          "metadata": {},
          "execution_count": 13
        }
      ]
    },
    {
      "cell_type": "code",
      "source": [
        "dataset['DataValueUnit'].dtypes"
      ],
      "metadata": {
        "colab": {
          "base_uri": "https://localhost:8080/"
        },
        "id": "1ZQ3-sq0rg0J",
        "outputId": "74f85b99-3878-4a59-f3e0-d0844ff121f5"
      },
      "execution_count": 14,
      "outputs": [
        {
          "output_type": "execute_result",
          "data": {
            "text/plain": [
              "dtype('O')"
            ]
          },
          "metadata": {},
          "execution_count": 14
        }
      ]
    },
    {
      "cell_type": "code",
      "source": [
        "dataset['DataValue'].dtypes"
      ],
      "metadata": {
        "colab": {
          "base_uri": "https://localhost:8080/"
        },
        "id": "VMWvLZjcrkuY",
        "outputId": "4268eb32-9fb6-4fb0-b7f7-3037607213f3"
      },
      "execution_count": 15,
      "outputs": [
        {
          "output_type": "execute_result",
          "data": {
            "text/plain": [
              "dtype('O')"
            ]
          },
          "metadata": {},
          "execution_count": 15
        }
      ]
    },
    {
      "cell_type": "code",
      "source": [
        "dataset['DataValueAlt'].dtypes"
      ],
      "metadata": {
        "colab": {
          "base_uri": "https://localhost:8080/"
        },
        "id": "TDKDGdswrlUm",
        "outputId": "c66649bb-ffa2-4d66-9e9a-136d4f3e388b"
      },
      "execution_count": 16,
      "outputs": [
        {
          "output_type": "execute_result",
          "data": {
            "text/plain": [
              "dtype('float64')"
            ]
          },
          "metadata": {},
          "execution_count": 16
        }
      ]
    },
    {
      "cell_type": "code",
      "source": [
        "dataset['DataValueFootnoteSymbol'].dtypes"
      ],
      "metadata": {
        "colab": {
          "base_uri": "https://localhost:8080/"
        },
        "id": "p1xYfGp9lWyt",
        "outputId": "ca586e85-680c-427f-9d24-863d417bfdfe"
      },
      "execution_count": 17,
      "outputs": [
        {
          "output_type": "execute_result",
          "data": {
            "text/plain": [
              "dtype('O')"
            ]
          },
          "metadata": {},
          "execution_count": 17
        }
      ]
    },
    {
      "cell_type": "code",
      "source": [
        "dataset['DatavalueFootnote'].dtypes"
      ],
      "metadata": {
        "colab": {
          "base_uri": "https://localhost:8080/"
        },
        "id": "86Zf5i6RlfkG",
        "outputId": "e327c7ce-bf6b-4e46-f185-035f5c9c08fa"
      },
      "execution_count": 18,
      "outputs": [
        {
          "output_type": "execute_result",
          "data": {
            "text/plain": [
              "dtype('O')"
            ]
          },
          "metadata": {},
          "execution_count": 18
        }
      ]
    },
    {
      "cell_type": "code",
      "source": [
        "dataset['LowConfidenceLimit'].dtypes"
      ],
      "metadata": {
        "colab": {
          "base_uri": "https://localhost:8080/"
        },
        "id": "GygqCrIRlqUe",
        "outputId": "f7011a4c-dfa7-4cc8-8d69-f826c8363aa9"
      },
      "execution_count": 19,
      "outputs": [
        {
          "output_type": "execute_result",
          "data": {
            "text/plain": [
              "dtype('float64')"
            ]
          },
          "metadata": {},
          "execution_count": 19
        }
      ]
    },
    {
      "cell_type": "code",
      "source": [
        "dataset['HighConfidenceLimit'].dtypes"
      ],
      "metadata": {
        "colab": {
          "base_uri": "https://localhost:8080/"
        },
        "id": "Y33YoNYhl35T",
        "outputId": "af22cd7c-a7d6-4b82-bdbb-2273a24e04fd"
      },
      "execution_count": 20,
      "outputs": [
        {
          "output_type": "execute_result",
          "data": {
            "text/plain": [
              "dtype('float64')"
            ]
          },
          "metadata": {},
          "execution_count": 20
        }
      ]
    },
    {
      "cell_type": "code",
      "source": [
        "dataset['StratificationCategory2'].dtypes"
      ],
      "metadata": {
        "colab": {
          "base_uri": "https://localhost:8080/"
        },
        "id": "pHoO-cIbmANa",
        "outputId": "2a5706e7-e4a4-4668-d0a4-9305701d2773"
      },
      "execution_count": 21,
      "outputs": [
        {
          "output_type": "execute_result",
          "data": {
            "text/plain": [
              "dtype('float64')"
            ]
          },
          "metadata": {},
          "execution_count": 21
        }
      ]
    },
    {
      "cell_type": "code",
      "source": [
        "dataset['Stratification2'].dtypes"
      ],
      "metadata": {
        "colab": {
          "base_uri": "https://localhost:8080/"
        },
        "id": "joRRj02ImJxm",
        "outputId": "c0fcf84c-d70d-493c-f3d7-01945f88eafa"
      },
      "execution_count": 22,
      "outputs": [
        {
          "output_type": "execute_result",
          "data": {
            "text/plain": [
              "dtype('float64')"
            ]
          },
          "metadata": {},
          "execution_count": 22
        }
      ]
    },
    {
      "cell_type": "code",
      "source": [
        "dataset['StratificationCategory3'].dtypes"
      ],
      "metadata": {
        "colab": {
          "base_uri": "https://localhost:8080/"
        },
        "id": "P2I1PVeGmYWW",
        "outputId": "320cfcdb-2b34-4547-b44e-33dfc5bff3ef"
      },
      "execution_count": 23,
      "outputs": [
        {
          "output_type": "execute_result",
          "data": {
            "text/plain": [
              "dtype('float64')"
            ]
          },
          "metadata": {},
          "execution_count": 23
        }
      ]
    },
    {
      "cell_type": "code",
      "source": [
        "dataset['Stratification3'].dtypes"
      ],
      "metadata": {
        "colab": {
          "base_uri": "https://localhost:8080/"
        },
        "id": "yCrEaqs1mcWH",
        "outputId": "83337a4e-08f0-4a40-a65b-7c9f62cbed53"
      },
      "execution_count": 24,
      "outputs": [
        {
          "output_type": "execute_result",
          "data": {
            "text/plain": [
              "dtype('float64')"
            ]
          },
          "metadata": {},
          "execution_count": 24
        }
      ]
    },
    {
      "cell_type": "code",
      "source": [
        "dataset['GeoLocation'].dtypes"
      ],
      "metadata": {
        "colab": {
          "base_uri": "https://localhost:8080/"
        },
        "id": "UkiTEY3NmgjE",
        "outputId": "aa87077d-ef61-4220-d9b2-04fd8cd236fc"
      },
      "execution_count": 25,
      "outputs": [
        {
          "output_type": "execute_result",
          "data": {
            "text/plain": [
              "dtype('O')"
            ]
          },
          "metadata": {},
          "execution_count": 25
        }
      ]
    },
    {
      "cell_type": "code",
      "source": [
        "dataset['ResponseID'].dtypes"
      ],
      "metadata": {
        "colab": {
          "base_uri": "https://localhost:8080/"
        },
        "id": "FrXOdU_gmjmK",
        "outputId": "88e6b6c5-9ba9-4e88-c13c-45dc6e27a690"
      },
      "execution_count": 26,
      "outputs": [
        {
          "output_type": "execute_result",
          "data": {
            "text/plain": [
              "dtype('float64')"
            ]
          },
          "metadata": {},
          "execution_count": 26
        }
      ]
    },
    {
      "cell_type": "code",
      "source": [
        "dataset['StratificationCategoryID2'].dtypes"
      ],
      "metadata": {
        "colab": {
          "base_uri": "https://localhost:8080/"
        },
        "id": "OMzolR6DnDhv",
        "outputId": "db242023-536b-48c6-bd03-4c3456474b61"
      },
      "execution_count": 27,
      "outputs": [
        {
          "output_type": "execute_result",
          "data": {
            "text/plain": [
              "dtype('float64')"
            ]
          },
          "metadata": {},
          "execution_count": 27
        }
      ]
    },
    {
      "cell_type": "code",
      "source": [
        "dataset['StratificationID2'].dtypes"
      ],
      "metadata": {
        "colab": {
          "base_uri": "https://localhost:8080/"
        },
        "id": "aJtwQ0tdnP40",
        "outputId": "2b8b01f5-4e68-45f5-b304-1c1d4c210343"
      },
      "execution_count": 28,
      "outputs": [
        {
          "output_type": "execute_result",
          "data": {
            "text/plain": [
              "dtype('float64')"
            ]
          },
          "metadata": {},
          "execution_count": 28
        }
      ]
    },
    {
      "cell_type": "code",
      "source": [
        "dataset['StratificationCategoryID3'].dtypes"
      ],
      "metadata": {
        "colab": {
          "base_uri": "https://localhost:8080/"
        },
        "id": "050VkFpEnXcc",
        "outputId": "e1f56cbc-fed2-4aaf-a719-1c1176102870"
      },
      "execution_count": 29,
      "outputs": [
        {
          "output_type": "execute_result",
          "data": {
            "text/plain": [
              "dtype('float64')"
            ]
          },
          "metadata": {},
          "execution_count": 29
        }
      ]
    },
    {
      "cell_type": "code",
      "source": [
        "dataset['StratificationID3'].dtypes"
      ],
      "metadata": {
        "colab": {
          "base_uri": "https://localhost:8080/"
        },
        "id": "zRhYubbDnJU3",
        "outputId": "b6c3cd6b-40b9-4b62-9016-2f0ebc23991c"
      },
      "execution_count": 30,
      "outputs": [
        {
          "output_type": "execute_result",
          "data": {
            "text/plain": [
              "dtype('float64')"
            ]
          },
          "metadata": {},
          "execution_count": 30
        }
      ]
    },
    {
      "cell_type": "markdown",
      "source": [
        "karena dari 18 data yang terdapat missing value 13 diantaranya merupakan numerical data, maka data kita dapat mengisi data tersebut baik menggunakan mean, median, standar deviasi, nol dan sebagainya. sedangkan untuk data yang bertipe string cukup di drop saja.\n",
        "adapun strategi yang saya gunakan disini yaitu menggunakan mean, yaitu mengisi rata-rata dari data poin. "
      ],
      "metadata": {
        "id": "v6QJEYLbpcpG"
      }
    },
    {
      "cell_type": "code",
      "source": [
        "from sklearn.impute import SimpleImputer\n",
        "imputer = SimpleImputer(missing_values= np.nan, strategy='mean')\n",
        "imputer"
      ],
      "metadata": {
        "colab": {
          "base_uri": "https://localhost:8080/",
          "height": 74
        },
        "id": "02J19YzBjpuO",
        "outputId": "2c505be1-2a5a-4ab0-f591-6777359e14cd"
      },
      "execution_count": 31,
      "outputs": [
        {
          "output_type": "execute_result",
          "data": {
            "text/plain": [
              "SimpleImputer()"
            ],
            "text/html": [
              "<style>#sk-container-id-1 {color: black;background-color: white;}#sk-container-id-1 pre{padding: 0;}#sk-container-id-1 div.sk-toggleable {background-color: white;}#sk-container-id-1 label.sk-toggleable__label {cursor: pointer;display: block;width: 100%;margin-bottom: 0;padding: 0.3em;box-sizing: border-box;text-align: center;}#sk-container-id-1 label.sk-toggleable__label-arrow:before {content: \"▸\";float: left;margin-right: 0.25em;color: #696969;}#sk-container-id-1 label.sk-toggleable__label-arrow:hover:before {color: black;}#sk-container-id-1 div.sk-estimator:hover label.sk-toggleable__label-arrow:before {color: black;}#sk-container-id-1 div.sk-toggleable__content {max-height: 0;max-width: 0;overflow: hidden;text-align: left;background-color: #f0f8ff;}#sk-container-id-1 div.sk-toggleable__content pre {margin: 0.2em;color: black;border-radius: 0.25em;background-color: #f0f8ff;}#sk-container-id-1 input.sk-toggleable__control:checked~div.sk-toggleable__content {max-height: 200px;max-width: 100%;overflow: auto;}#sk-container-id-1 input.sk-toggleable__control:checked~label.sk-toggleable__label-arrow:before {content: \"▾\";}#sk-container-id-1 div.sk-estimator input.sk-toggleable__control:checked~label.sk-toggleable__label {background-color: #d4ebff;}#sk-container-id-1 div.sk-label input.sk-toggleable__control:checked~label.sk-toggleable__label {background-color: #d4ebff;}#sk-container-id-1 input.sk-hidden--visually {border: 0;clip: rect(1px 1px 1px 1px);clip: rect(1px, 1px, 1px, 1px);height: 1px;margin: -1px;overflow: hidden;padding: 0;position: absolute;width: 1px;}#sk-container-id-1 div.sk-estimator {font-family: monospace;background-color: #f0f8ff;border: 1px dotted black;border-radius: 0.25em;box-sizing: border-box;margin-bottom: 0.5em;}#sk-container-id-1 div.sk-estimator:hover {background-color: #d4ebff;}#sk-container-id-1 div.sk-parallel-item::after {content: \"\";width: 100%;border-bottom: 1px solid gray;flex-grow: 1;}#sk-container-id-1 div.sk-label:hover label.sk-toggleable__label {background-color: #d4ebff;}#sk-container-id-1 div.sk-serial::before {content: \"\";position: absolute;border-left: 1px solid gray;box-sizing: border-box;top: 0;bottom: 0;left: 50%;z-index: 0;}#sk-container-id-1 div.sk-serial {display: flex;flex-direction: column;align-items: center;background-color: white;padding-right: 0.2em;padding-left: 0.2em;position: relative;}#sk-container-id-1 div.sk-item {position: relative;z-index: 1;}#sk-container-id-1 div.sk-parallel {display: flex;align-items: stretch;justify-content: center;background-color: white;position: relative;}#sk-container-id-1 div.sk-item::before, #sk-container-id-1 div.sk-parallel-item::before {content: \"\";position: absolute;border-left: 1px solid gray;box-sizing: border-box;top: 0;bottom: 0;left: 50%;z-index: -1;}#sk-container-id-1 div.sk-parallel-item {display: flex;flex-direction: column;z-index: 1;position: relative;background-color: white;}#sk-container-id-1 div.sk-parallel-item:first-child::after {align-self: flex-end;width: 50%;}#sk-container-id-1 div.sk-parallel-item:last-child::after {align-self: flex-start;width: 50%;}#sk-container-id-1 div.sk-parallel-item:only-child::after {width: 0;}#sk-container-id-1 div.sk-dashed-wrapped {border: 1px dashed gray;margin: 0 0.4em 0.5em 0.4em;box-sizing: border-box;padding-bottom: 0.4em;background-color: white;}#sk-container-id-1 div.sk-label label {font-family: monospace;font-weight: bold;display: inline-block;line-height: 1.2em;}#sk-container-id-1 div.sk-label-container {text-align: center;}#sk-container-id-1 div.sk-container {/* jupyter's `normalize.less` sets `[hidden] { display: none; }` but bootstrap.min.css set `[hidden] { display: none !important; }` so we also need the `!important` here to be able to override the default hidden behavior on the sphinx rendered scikit-learn.org. See: https://github.com/scikit-learn/scikit-learn/issues/21755 */display: inline-block !important;position: relative;}#sk-container-id-1 div.sk-text-repr-fallback {display: none;}</style><div id=\"sk-container-id-1\" class=\"sk-top-container\"><div class=\"sk-text-repr-fallback\"><pre>SimpleImputer()</pre><b>In a Jupyter environment, please rerun this cell to show the HTML representation or trust the notebook. <br />On GitHub, the HTML representation is unable to render, please try loading this page with nbviewer.org.</b></div><div class=\"sk-container\" hidden><div class=\"sk-item\"><div class=\"sk-estimator sk-toggleable\"><input class=\"sk-toggleable__control sk-hidden--visually\" id=\"sk-estimator-id-1\" type=\"checkbox\" checked><label for=\"sk-estimator-id-1\" class=\"sk-toggleable__label sk-toggleable__label-arrow\">SimpleImputer</label><div class=\"sk-toggleable__content\"><pre>SimpleImputer()</pre></div></div></div></div></div>"
            ]
          },
          "metadata": {},
          "execution_count": 31
        }
      ]
    },
    {
      "cell_type": "code",
      "source": [
        "imputer = imputer.fit(dataset[['Response', 'DataValueAlt', 'LowConfidenceLimit', 'HighConfidenceLimit', 'StratificationCategory2', 'Stratification2', 'StratificationCategory3', 'Stratification3', 'ResponseID', 'StratificationCategoryID2', 'StratificationID2', 'StratificationCategoryID3', 'StratificationID3']])\n",
        "imputer"
      ],
      "metadata": {
        "colab": {
          "base_uri": "https://localhost:8080/",
          "height": 74
        },
        "id": "RatiEmtpsMxv",
        "outputId": "d718efea-bcaa-4d94-a6bb-3d491ef530ce"
      },
      "execution_count": 32,
      "outputs": [
        {
          "output_type": "execute_result",
          "data": {
            "text/plain": [
              "SimpleImputer()"
            ],
            "text/html": [
              "<style>#sk-container-id-2 {color: black;background-color: white;}#sk-container-id-2 pre{padding: 0;}#sk-container-id-2 div.sk-toggleable {background-color: white;}#sk-container-id-2 label.sk-toggleable__label {cursor: pointer;display: block;width: 100%;margin-bottom: 0;padding: 0.3em;box-sizing: border-box;text-align: center;}#sk-container-id-2 label.sk-toggleable__label-arrow:before {content: \"▸\";float: left;margin-right: 0.25em;color: #696969;}#sk-container-id-2 label.sk-toggleable__label-arrow:hover:before {color: black;}#sk-container-id-2 div.sk-estimator:hover label.sk-toggleable__label-arrow:before {color: black;}#sk-container-id-2 div.sk-toggleable__content {max-height: 0;max-width: 0;overflow: hidden;text-align: left;background-color: #f0f8ff;}#sk-container-id-2 div.sk-toggleable__content pre {margin: 0.2em;color: black;border-radius: 0.25em;background-color: #f0f8ff;}#sk-container-id-2 input.sk-toggleable__control:checked~div.sk-toggleable__content {max-height: 200px;max-width: 100%;overflow: auto;}#sk-container-id-2 input.sk-toggleable__control:checked~label.sk-toggleable__label-arrow:before {content: \"▾\";}#sk-container-id-2 div.sk-estimator input.sk-toggleable__control:checked~label.sk-toggleable__label {background-color: #d4ebff;}#sk-container-id-2 div.sk-label input.sk-toggleable__control:checked~label.sk-toggleable__label {background-color: #d4ebff;}#sk-container-id-2 input.sk-hidden--visually {border: 0;clip: rect(1px 1px 1px 1px);clip: rect(1px, 1px, 1px, 1px);height: 1px;margin: -1px;overflow: hidden;padding: 0;position: absolute;width: 1px;}#sk-container-id-2 div.sk-estimator {font-family: monospace;background-color: #f0f8ff;border: 1px dotted black;border-radius: 0.25em;box-sizing: border-box;margin-bottom: 0.5em;}#sk-container-id-2 div.sk-estimator:hover {background-color: #d4ebff;}#sk-container-id-2 div.sk-parallel-item::after {content: \"\";width: 100%;border-bottom: 1px solid gray;flex-grow: 1;}#sk-container-id-2 div.sk-label:hover label.sk-toggleable__label {background-color: #d4ebff;}#sk-container-id-2 div.sk-serial::before {content: \"\";position: absolute;border-left: 1px solid gray;box-sizing: border-box;top: 0;bottom: 0;left: 50%;z-index: 0;}#sk-container-id-2 div.sk-serial {display: flex;flex-direction: column;align-items: center;background-color: white;padding-right: 0.2em;padding-left: 0.2em;position: relative;}#sk-container-id-2 div.sk-item {position: relative;z-index: 1;}#sk-container-id-2 div.sk-parallel {display: flex;align-items: stretch;justify-content: center;background-color: white;position: relative;}#sk-container-id-2 div.sk-item::before, #sk-container-id-2 div.sk-parallel-item::before {content: \"\";position: absolute;border-left: 1px solid gray;box-sizing: border-box;top: 0;bottom: 0;left: 50%;z-index: -1;}#sk-container-id-2 div.sk-parallel-item {display: flex;flex-direction: column;z-index: 1;position: relative;background-color: white;}#sk-container-id-2 div.sk-parallel-item:first-child::after {align-self: flex-end;width: 50%;}#sk-container-id-2 div.sk-parallel-item:last-child::after {align-self: flex-start;width: 50%;}#sk-container-id-2 div.sk-parallel-item:only-child::after {width: 0;}#sk-container-id-2 div.sk-dashed-wrapped {border: 1px dashed gray;margin: 0 0.4em 0.5em 0.4em;box-sizing: border-box;padding-bottom: 0.4em;background-color: white;}#sk-container-id-2 div.sk-label label {font-family: monospace;font-weight: bold;display: inline-block;line-height: 1.2em;}#sk-container-id-2 div.sk-label-container {text-align: center;}#sk-container-id-2 div.sk-container {/* jupyter's `normalize.less` sets `[hidden] { display: none; }` but bootstrap.min.css set `[hidden] { display: none !important; }` so we also need the `!important` here to be able to override the default hidden behavior on the sphinx rendered scikit-learn.org. See: https://github.com/scikit-learn/scikit-learn/issues/21755 */display: inline-block !important;position: relative;}#sk-container-id-2 div.sk-text-repr-fallback {display: none;}</style><div id=\"sk-container-id-2\" class=\"sk-top-container\"><div class=\"sk-text-repr-fallback\"><pre>SimpleImputer()</pre><b>In a Jupyter environment, please rerun this cell to show the HTML representation or trust the notebook. <br />On GitHub, the HTML representation is unable to render, please try loading this page with nbviewer.org.</b></div><div class=\"sk-container\" hidden><div class=\"sk-item\"><div class=\"sk-estimator sk-toggleable\"><input class=\"sk-toggleable__control sk-hidden--visually\" id=\"sk-estimator-id-2\" type=\"checkbox\" checked><label for=\"sk-estimator-id-2\" class=\"sk-toggleable__label sk-toggleable__label-arrow\">SimpleImputer</label><div class=\"sk-toggleable__content\"><pre>SimpleImputer()</pre></div></div></div></div></div>"
            ]
          },
          "metadata": {},
          "execution_count": 32
        }
      ]
    },
    {
      "cell_type": "code",
      "source": [
        "dataset[['Response', 'DataValueAlt', 'LowConfidenceLimit', 'HighConfidenceLimit', 'StratificationCategory2', 'Stratification2', 'StratificationCategory3', 'Stratification3', 'ResponseID', 'StratificationCategoryID2', 'StratificationID2', 'StratificationCategoryID3', 'StratificationID3']] = imputer.transform(dataset[['Response', 'DataValueAlt', 'LowConfidenceLimit', 'HighConfidenceLimit', 'StratificationCategory2', 'Stratification2', 'StratificationCategory3', 'Stratification3', 'ResponseID', 'StratificationCategoryID2', 'StratificationID2', 'StratificationCategoryID3', 'StratificationID3']])\n",
        "dataset.isnull().sum()"
      ],
      "metadata": {
        "id": "VRRgnMy9s6t7"
      },
      "execution_count": null,
      "outputs": []
    },
    {
      "cell_type": "markdown",
      "source": [
        "Using drop column tohandle missing value on categorical or object data"
      ],
      "metadata": {
        "id": "akm-xmRdphDb"
      }
    },
    {
      "cell_type": "code",
      "execution_count": 33,
      "metadata": {
        "colab": {
          "base_uri": "https://localhost:8080/"
        },
        "id": "APXYNKqq0J3k",
        "outputId": "278bb828-494b-4dc9-973f-f92829826d5f"
      },
      "outputs": [
        {
          "output_type": "execute_result",
          "data": {
            "text/plain": [
              "YearStart                    0\n",
              "YearEnd                      0\n",
              "LocationAbbr                 0\n",
              "LocationDesc                 0\n",
              "DataSource                   0\n",
              "Topic                        0\n",
              "Question                     0\n",
              "DataValueType                0\n",
              "StratificationCategory1      0\n",
              "Stratification1              0\n",
              "LocationID                   0\n",
              "TopicID                      0\n",
              "QuestionID                   0\n",
              "DataValueTypeID              0\n",
              "StratificationCategoryID1    0\n",
              "StratificationID1            0\n",
              "dtype: int64"
            ]
          },
          "metadata": {},
          "execution_count": 33
        }
      ],
      "source": [
        "dataset = dataset.dropna(axis=1)\n",
        "dataset.isnull().sum()"
      ]
    },
    {
      "cell_type": "markdown",
      "source": [
        "## 3. Data Visualization"
      ],
      "metadata": {
        "id": "ENPm1cm20MRH"
      }
    },
    {
      "cell_type": "markdown",
      "source": [
        "**Eploratory Data Analysis (EDA)**"
      ],
      "metadata": {
        "id": "Kmt5tnjKb_Th"
      }
    },
    {
      "cell_type": "markdown",
      "source": [
        "we will not use exploratory data analysis like in the previous class, we'll take another apporach to visualize data"
      ],
      "metadata": {
        "id": "_sXK6PePvNOv"
      }
    },
    {
      "cell_type": "markdown",
      "source": [
        "**3.1 Check Outliers**"
      ],
      "metadata": {
        "id": "FZB03O6btxDd"
      }
    },
    {
      "cell_type": "markdown",
      "source": [
        "secara umum dapat diketahui bahwa outliers merupakan data yang jaraknya cukup jauh dari kumpulan data poin."
      ],
      "metadata": {
        "id": "SQ0_zvLnpcBl"
      }
    },
    {
      "cell_type": "markdown",
      "source": [
        "untuk melihat outliers yang sifatnya numerical data yang terdapat pada dataset yang dianalisis digunakan function describe "
      ],
      "metadata": {
        "id": "jfcdm4WW6HHn"
      }
    },
    {
      "cell_type": "code",
      "execution_count": 34,
      "metadata": {
        "colab": {
          "base_uri": "https://localhost:8080/",
          "height": 300
        },
        "id": "0V45x0tn28_2",
        "outputId": "9f6d0843-7477-403f-dc02-6ea2a62e5665"
      },
      "outputs": [
        {
          "output_type": "execute_result",
          "data": {
            "text/plain": [
              "          YearStart       YearEnd    LocationID\n",
              "count  1.185676e+06  1.185676e+06  1.185676e+06\n",
              "mean   2.015103e+03  2.015643e+03  3.078907e+01\n",
              "std    3.320259e+00  3.001197e+00  1.750972e+01\n",
              "min    2.001000e+03  2.001000e+03  1.000000e+00\n",
              "25%    2.013000e+03  2.013000e+03  1.700000e+01\n",
              "50%    2.015000e+03  2.016000e+03  3.000000e+01\n",
              "75%    2.018000e+03  2.018000e+03  4.500000e+01\n",
              "max    2.021000e+03  2.021000e+03  7.800000e+01"
            ],
            "text/html": [
              "\n",
              "  <div id=\"df-b7dfb824-33dc-4d59-94b7-c36c85cc31a7\">\n",
              "    <div class=\"colab-df-container\">\n",
              "      <div>\n",
              "<style scoped>\n",
              "    .dataframe tbody tr th:only-of-type {\n",
              "        vertical-align: middle;\n",
              "    }\n",
              "\n",
              "    .dataframe tbody tr th {\n",
              "        vertical-align: top;\n",
              "    }\n",
              "\n",
              "    .dataframe thead th {\n",
              "        text-align: right;\n",
              "    }\n",
              "</style>\n",
              "<table border=\"1\" class=\"dataframe\">\n",
              "  <thead>\n",
              "    <tr style=\"text-align: right;\">\n",
              "      <th></th>\n",
              "      <th>YearStart</th>\n",
              "      <th>YearEnd</th>\n",
              "      <th>LocationID</th>\n",
              "    </tr>\n",
              "  </thead>\n",
              "  <tbody>\n",
              "    <tr>\n",
              "      <th>count</th>\n",
              "      <td>1.185676e+06</td>\n",
              "      <td>1.185676e+06</td>\n",
              "      <td>1.185676e+06</td>\n",
              "    </tr>\n",
              "    <tr>\n",
              "      <th>mean</th>\n",
              "      <td>2.015103e+03</td>\n",
              "      <td>2.015643e+03</td>\n",
              "      <td>3.078907e+01</td>\n",
              "    </tr>\n",
              "    <tr>\n",
              "      <th>std</th>\n",
              "      <td>3.320259e+00</td>\n",
              "      <td>3.001197e+00</td>\n",
              "      <td>1.750972e+01</td>\n",
              "    </tr>\n",
              "    <tr>\n",
              "      <th>min</th>\n",
              "      <td>2.001000e+03</td>\n",
              "      <td>2.001000e+03</td>\n",
              "      <td>1.000000e+00</td>\n",
              "    </tr>\n",
              "    <tr>\n",
              "      <th>25%</th>\n",
              "      <td>2.013000e+03</td>\n",
              "      <td>2.013000e+03</td>\n",
              "      <td>1.700000e+01</td>\n",
              "    </tr>\n",
              "    <tr>\n",
              "      <th>50%</th>\n",
              "      <td>2.015000e+03</td>\n",
              "      <td>2.016000e+03</td>\n",
              "      <td>3.000000e+01</td>\n",
              "    </tr>\n",
              "    <tr>\n",
              "      <th>75%</th>\n",
              "      <td>2.018000e+03</td>\n",
              "      <td>2.018000e+03</td>\n",
              "      <td>4.500000e+01</td>\n",
              "    </tr>\n",
              "    <tr>\n",
              "      <th>max</th>\n",
              "      <td>2.021000e+03</td>\n",
              "      <td>2.021000e+03</td>\n",
              "      <td>7.800000e+01</td>\n",
              "    </tr>\n",
              "  </tbody>\n",
              "</table>\n",
              "</div>\n",
              "      <button class=\"colab-df-convert\" onclick=\"convertToInteractive('df-b7dfb824-33dc-4d59-94b7-c36c85cc31a7')\"\n",
              "              title=\"Convert this dataframe to an interactive table.\"\n",
              "              style=\"display:none;\">\n",
              "        \n",
              "  <svg xmlns=\"http://www.w3.org/2000/svg\" height=\"24px\"viewBox=\"0 0 24 24\"\n",
              "       width=\"24px\">\n",
              "    <path d=\"M0 0h24v24H0V0z\" fill=\"none\"/>\n",
              "    <path d=\"M18.56 5.44l.94 2.06.94-2.06 2.06-.94-2.06-.94-.94-2.06-.94 2.06-2.06.94zm-11 1L8.5 8.5l.94-2.06 2.06-.94-2.06-.94L8.5 2.5l-.94 2.06-2.06.94zm10 10l.94 2.06.94-2.06 2.06-.94-2.06-.94-.94-2.06-.94 2.06-2.06.94z\"/><path d=\"M17.41 7.96l-1.37-1.37c-.4-.4-.92-.59-1.43-.59-.52 0-1.04.2-1.43.59L10.3 9.45l-7.72 7.72c-.78.78-.78 2.05 0 2.83L4 21.41c.39.39.9.59 1.41.59.51 0 1.02-.2 1.41-.59l7.78-7.78 2.81-2.81c.8-.78.8-2.07 0-2.86zM5.41 20L4 18.59l7.72-7.72 1.47 1.35L5.41 20z\"/>\n",
              "  </svg>\n",
              "      </button>\n",
              "      \n",
              "  <style>\n",
              "    .colab-df-container {\n",
              "      display:flex;\n",
              "      flex-wrap:wrap;\n",
              "      gap: 12px;\n",
              "    }\n",
              "\n",
              "    .colab-df-convert {\n",
              "      background-color: #E8F0FE;\n",
              "      border: none;\n",
              "      border-radius: 50%;\n",
              "      cursor: pointer;\n",
              "      display: none;\n",
              "      fill: #1967D2;\n",
              "      height: 32px;\n",
              "      padding: 0 0 0 0;\n",
              "      width: 32px;\n",
              "    }\n",
              "\n",
              "    .colab-df-convert:hover {\n",
              "      background-color: #E2EBFA;\n",
              "      box-shadow: 0px 1px 2px rgba(60, 64, 67, 0.3), 0px 1px 3px 1px rgba(60, 64, 67, 0.15);\n",
              "      fill: #174EA6;\n",
              "    }\n",
              "\n",
              "    [theme=dark] .colab-df-convert {\n",
              "      background-color: #3B4455;\n",
              "      fill: #D2E3FC;\n",
              "    }\n",
              "\n",
              "    [theme=dark] .colab-df-convert:hover {\n",
              "      background-color: #434B5C;\n",
              "      box-shadow: 0px 1px 3px 1px rgba(0, 0, 0, 0.15);\n",
              "      filter: drop-shadow(0px 1px 2px rgba(0, 0, 0, 0.3));\n",
              "      fill: #FFFFFF;\n",
              "    }\n",
              "  </style>\n",
              "\n",
              "      <script>\n",
              "        const buttonEl =\n",
              "          document.querySelector('#df-b7dfb824-33dc-4d59-94b7-c36c85cc31a7 button.colab-df-convert');\n",
              "        buttonEl.style.display =\n",
              "          google.colab.kernel.accessAllowed ? 'block' : 'none';\n",
              "\n",
              "        async function convertToInteractive(key) {\n",
              "          const element = document.querySelector('#df-b7dfb824-33dc-4d59-94b7-c36c85cc31a7');\n",
              "          const dataTable =\n",
              "            await google.colab.kernel.invokeFunction('convertToInteractive',\n",
              "                                                     [key], {});\n",
              "          if (!dataTable) return;\n",
              "\n",
              "          const docLinkHtml = 'Like what you see? Visit the ' +\n",
              "            '<a target=\"_blank\" href=https://colab.research.google.com/notebooks/data_table.ipynb>data table notebook</a>'\n",
              "            + ' to learn more about interactive tables.';\n",
              "          element.innerHTML = '';\n",
              "          dataTable['output_type'] = 'display_data';\n",
              "          await google.colab.output.renderOutput(dataTable, element);\n",
              "          const docLink = document.createElement('div');\n",
              "          docLink.innerHTML = docLinkHtml;\n",
              "          element.appendChild(docLink);\n",
              "        }\n",
              "      </script>\n",
              "    </div>\n",
              "  </div>\n",
              "  "
            ]
          },
          "metadata": {},
          "execution_count": 34
        }
      ],
      "source": [
        "dataset.describe()"
      ]
    },
    {
      "cell_type": "markdown",
      "source": [
        "karena pada describe hanya menampilkan data jadi cukup sulit untuk melihat data apa saja yang termasuk kedalam outliers, oleh karena itu dilakukan visualisasi data. dengan menggunakan visualisasi data akan tergambar apa itu outliers dan dimana saja letak dari outliers tersebut. Adapun funtion yang digunakan untuk melakukan visualisasi data disini menggunakan matplotlib."
      ],
      "metadata": {
        "id": "AIGjRBMtqb2z"
      }
    },
    {
      "cell_type": "code",
      "source": [
        "import matplotlib.pyplot as plt\n",
        "%matplotlib inline\n",
        "dataset.plot()"
      ],
      "metadata": {
        "colab": {
          "base_uri": "https://localhost:8080/",
          "height": 466
        },
        "id": "hVyPVG8wv4Rd",
        "outputId": "56b87427-63b3-41be-dfe4-6022c82b7478"
      },
      "execution_count": 35,
      "outputs": [
        {
          "output_type": "execute_result",
          "data": {
            "text/plain": [
              "<Axes: >"
            ]
          },
          "metadata": {},
          "execution_count": 35
        },
        {
          "output_type": "display_data",
          "data": {
            "text/plain": [
              "<Figure size 640x480 with 1 Axes>"
            ],
            "image/png": "[encoded data removed]"
          },
          "metadata": {}
        }
      ]
    },
    {
      "cell_type": "markdown",
      "source": [
        "pada grafik diatas dapat dilihat ada 2 data yang letak nya cukup jauh dan posisinya tumpang tindih yaitu YearStart dan YearEnd. kemungkianan terdapat outliers dari kedua data tersebut karena jarak nya cukup jauh. \n",
        "\n",
        "meskipun dengan melihat grafik tersebut kita dapat mengetahui data mana saja yang terdapat outliers akan tetapi itu belum cukup akurat, oleh karena itu dapat menggunakan cara lain yaitu dengan boxplot dari library seaborn"
      ],
      "metadata": {
        "id": "lx9FxWmdr3ev"
      }
    },
    {
      "cell_type": "code",
      "source": [
        "import seaborn as sns\n",
        "%matplotlib inline\n",
        "\n",
        "sns.set(rc={'figure.figsize':(11,8)}, font_scale=1.5, style='whitegrid')\n",
        "\n",
        "# tips = sns.load_dataset(dataset)\n",
        "sns.boxplot(data=dataset, orient=\"h\");"
      ],
      "metadata": {
        "colab": {
          "base_uri": "https://localhost:8080/",
          "height": 689
        },
        "id": "Sg0KQswrw-aG",
        "outputId": "4fb791a5-e3d9-4dd5-fa45-f7464b88c6bb"
      },
      "execution_count": 36,
      "outputs": [
        {
          "output_type": "display_data",
          "data": {
            "text/plain": [
              "<Figure size 1100x800 with 1 Axes>"
            ],
            "image/png": "[encoded data removed]"
          },
          "metadata": {}
        }
      ]
    },
    {
      "cell_type": "markdown",
      "source": [
        "dari gambar diatas dapat dilihat bahwa terdapat data yang cukup jauh yaitu YearStart dan YearEnd. setelah menampilkan grafik untuk melihat data apa saja yang keluar dari outliers, diketahui bahwa dua data yang terdapat outliers yaitu YearStart dan YearEnd. untuk mengetahui pola dari YearStart dan YearEnd digunakan funtion scatter plot"
      ],
      "metadata": {
        "id": "1XvQqZyqtb6f"
      }
    },
    {
      "cell_type": "code",
      "source": [
        "# Scatter plot\n",
        "fig, ax = plt.subplots(figsize = (15,7))\n",
        "ax.scatter(dataset['YearStart'], dataset['YearEnd'])\n",
        " \n",
        "# x-axis label\n",
        "ax.set_xlabel('YearEnd')\n",
        " \n",
        "# y-axis label\n",
        "ax.set_ylabel('YearStart')\n",
        "plt.show()"
      ],
      "metadata": {
        "colab": {
          "base_uri": "https://localhost:8080/",
          "height": 641
        },
        "id": "QF-Yo7Mc1BJH",
        "outputId": "058654ff-e576-4a5f-db01-2c673fa5b917"
      },
      "execution_count": 37,
      "outputs": [
        {
          "output_type": "display_data",
          "data": {
            "text/plain": [
              "<Figure size 1500x700 with 1 Axes>"
            ],
            "image/png": "[encoded data removed]"
          },
          "metadata": {}
        }
      ]
    },
    {
      "cell_type": "markdown",
      "source": [
        "setelah mengetahui data yang terdapat outliers selanjutnya yaitu dibersihkan data yang terdapat ouliers tersebut, metode yang digunakan disini yaitu dengan **IQR (Inter Quartile Range)**\n",
        "\n",
        "**IQR (Inter Quartile Range)**\n",
        "\n",
        "IQR = Quartile3 – Quartile1\n"
      ],
      "metadata": {
        "id": "QNqE47dr2hr4"
      }
    },
    {
      "cell_type": "markdown",
      "source": [
        "IQR is interpolation method to remove outliers\n",
        "\n",
        "To define the outlier base value is defined above and below datasets normal range namely Upper and Lower bounds, define the upper and the lower bound (1.5*IQR value is considered) :\n",
        "\n",
        "upper = Q3 +1.5*IQR\n",
        "\n",
        "lower = Q1 – 1.5*IQR"
      ],
      "metadata": {
        "id": "5m0lhYyq3Xn7"
      }
    },
    {
      "cell_type": "code",
      "source": [
        "import sklearn\n",
        "\n",
        "# IQR YearStart\n",
        "Q1 = np.percentile(dataset['YearStart'], 25,\n",
        "                   method = 'midpoint')\n",
        " \n",
        "Q3 = np.percentile(dataset['YearStart'], 75,\n",
        "                   method = 'midpoint')\n",
        "IQR = Q3 - Q1\n",
        " \n",
        "print(\"Old Shape: \", dataset.shape)"
      ],
      "metadata": {
        "colab": {
          "base_uri": "https://localhost:8080/"
        },
        "id": "jL9XfyUY6L58",
        "outputId": "a9c8a3d6-db08-440e-e04c-0c6c91200a66"
      },
      "execution_count": 38,
      "outputs": [
        {
          "output_type": "stream",
          "name": "stdout",
          "text": [
            "Old Shape:  (1185676, 16)\n"
          ]
        }
      ]
    },
    {
      "cell_type": "code",
      "source": [
        "# Upper bound\n",
        "upper = Q3 + 1.5 * IQR\n",
        "\n",
        "# Lower bound\n",
        "lower = Q1 - 1.5 * IQR\n",
        "\n",
        "# Finding the indices of the outliers\n",
        "outliers_upper = dataset[dataset['YearStart'] > upper].index\n",
        "outliers_lower = dataset[dataset['YearStart'] < lower].index\n",
        "\n",
        "# Concatenate the indices of the outliers\n",
        "outliers = outliers_upper.append(outliers_lower)\n",
        "\n",
        "# Removing the outliers\n",
        "dataset.drop(outliers, inplace=True)\n",
        "\n",
        "print(\"New Shape: \", dataset.shape)\n"
      ],
      "metadata": {
        "colab": {
          "base_uri": "https://localhost:8080/"
        },
        "id": "WIZyhdHL6orp",
        "outputId": "482764fd-8caf-46bd-dc20-339aa295234a"
      },
      "execution_count": 39,
      "outputs": [
        {
          "output_type": "stream",
          "name": "stdout",
          "text": [
            "New Shape:  (1185572, 16)\n"
          ]
        },
        {
          "output_type": "stream",
          "name": "stderr",
          "text": [
            "<ipython-input-39-d1e1e324b93d>:15: SettingWithCopyWarning: \n",
            "A value is trying to be set on a copy of a slice from a DataFrame\n",
            "\n",
            "See the caveats in the documentation: https://pandas.pydata.org/pandas-docs/stable/user_guide/indexing.html#returning-a-view-versus-a-copy\n",
            "  dataset.drop(outliers, inplace=True)\n"
          ]
        }
      ]
    },
    {
      "cell_type": "markdown",
      "source": [
        "sebelum menghilangkan outliers = (1185676, 15).\n",
        "setelah menghilangkan outliers = (1185572, 15)"
      ],
      "metadata": {
        "id": "3hcCKB5axd4q"
      }
    },
    {
      "cell_type": "code",
      "source": [
        "import sklearn\n",
        "\n",
        "# IQR YearEnd\n",
        "Q1 = np.percentile(dataset['YearEnd'], 25,\n",
        "                   method = 'midpoint')\n",
        " \n",
        "Q3 = np.percentile(dataset['YearEnd'], 75,\n",
        "                   method = 'midpoint')\n",
        "IQR = Q3 - Q1\n",
        " \n",
        "print(\"Old Shape: \", dataset.shape)"
      ],
      "metadata": {
        "colab": {
          "base_uri": "https://localhost:8080/"
        },
        "id": "NV-D28kj63xj",
        "outputId": "419cb7ca-0a9c-4416-f2bd-c96bcf150b11"
      },
      "execution_count": 40,
      "outputs": [
        {
          "output_type": "stream",
          "name": "stdout",
          "text": [
            "Old Shape:  (1185572, 16)\n"
          ]
        }
      ]
    },
    {
      "cell_type": "code",
      "source": [
        "# Upper bound\n",
        "upper = Q3 + 1.5 * IQR\n",
        "\n",
        "# Lower bound\n",
        "lower = Q1 - 1.5 * IQR\n",
        "\n",
        "# Finding the indices of the outliers\n",
        "outliers_upper = dataset[dataset['YearEnd'] > upper].index\n",
        "outliers_lower = dataset[dataset['YearEnd'] < lower].index\n",
        "\n",
        "# Concatenate the indices of the outliers\n",
        "outliers = outliers_upper.append(outliers_lower)\n",
        "\n",
        "# Removing the outliers\n",
        "dataset.drop(outliers, inplace=True)\n",
        "\n",
        "print(\"New Shape: \", dataset.shape)\n"
      ],
      "metadata": {
        "colab": {
          "base_uri": "https://localhost:8080/"
        },
        "id": "raHbRnEQ66Ai",
        "outputId": "02a5097b-c114-4ce3-eb04-eb1df4c4cfdb"
      },
      "execution_count": 41,
      "outputs": [
        {
          "output_type": "stream",
          "name": "stdout",
          "text": [
            "New Shape:  (1185572, 16)\n"
          ]
        },
        {
          "output_type": "stream",
          "name": "stderr",
          "text": [
            "<ipython-input-41-3c55abcc98b1>:15: SettingWithCopyWarning: \n",
            "A value is trying to be set on a copy of a slice from a DataFrame\n",
            "\n",
            "See the caveats in the documentation: https://pandas.pydata.org/pandas-docs/stable/user_guide/indexing.html#returning-a-view-versus-a-copy\n",
            "  dataset.drop(outliers, inplace=True)\n"
          ]
        }
      ]
    },
    {
      "cell_type": "markdown",
      "source": [
        "setelah menghilangkan outliers maka lihat kembali apakah masih terdapat outliers atau tidak dengan menggunakan boxplot dan scatter plot, kenapa menggunakan dua funtion tersebut karena tampilannya yang jelas, mudah dibaca dan dipahami."
      ],
      "metadata": {
        "id": "mwLxar6EyOrq"
      }
    },
    {
      "cell_type": "code",
      "execution_count": 42,
      "metadata": {
        "colab": {
          "base_uri": "https://localhost:8080/",
          "height": 689
        },
        "id": "vR-0FpAR4wNE",
        "outputId": "cc760075-bb35-4cd4-82a4-a010b4f470ab"
      },
      "outputs": [
        {
          "output_type": "display_data",
          "data": {
            "text/plain": [
              "<Figure size 1100x800 with 1 Axes>"
            ],
            "image/png": "[encoded data removed]"
          },
          "metadata": {}
        }
      ],
      "source": [
        "import seaborn as sns\n",
        "%matplotlib inline\n",
        "\n",
        "sns.set(rc={'figure.figsize':(11,8)}, font_scale=1.5, style='whitegrid')\n",
        "\n",
        "# tips = sns.load_dataset(dataset)\n",
        "sns.boxplot(data=dataset, orient=\"h\");"
      ]
    },
    {
      "cell_type": "code",
      "source": [
        "# Scatter plot\n",
        "fig, ax = plt.subplots(figsize = (15,7))\n",
        "ax.scatter(dataset['YearStart'], dataset['YearEnd'])\n",
        " \n",
        "# x-axis label\n",
        "ax.set_xlabel('YearEnd')\n",
        " \n",
        "# y-axis label\n",
        "ax.set_ylabel('YearStart')\n",
        "plt.show()"
      ],
      "metadata": {
        "colab": {
          "base_uri": "https://localhost:8080/",
          "height": 641
        },
        "id": "kp3nBBsZ8qQm",
        "outputId": "6c34638d-7f6e-4754-cffc-5d2cd2c1afc0"
      },
      "execution_count": 43,
      "outputs": [
        {
          "output_type": "display_data",
          "data": {
            "text/plain": [
              "<Figure size 1500x700 with 1 Axes>"
            ],
            "image/png": "[encoded data removed]"
          },
          "metadata": {}
        }
      ]
    },
    {
      "cell_type": "markdown",
      "source": [
        "Show data distribution based on density (kde - kernel density estimation)\n"
      ],
      "metadata": {
        "id": "LsjkfEScBUoN"
      }
    },
    {
      "cell_type": "markdown",
      "source": [
        "dari grafik dibawah ini dapat diketahui bahwa, Density pada YearStart terdapat kerapatan pada tahun 2008 hingga 2020 atau data berkumpul pada tahun 2008 hingga 2020. untuk LocationID dapat diketahui kerapatan nya yaitu berada pada 0 hingga 75. dan untuuk YearEnd terdapat kerapatan pada tahun 2010 hingga 2020"
      ],
      "metadata": {
        "id": "5nu1BD4czUbX"
      }
    },
    {
      "cell_type": "code",
      "execution_count": 44,
      "metadata": {
        "colab": {
          "base_uri": "https://localhost:8080/",
          "height": 247
        },
        "id": "aiF0oNG7_bPz",
        "outputId": "9586bff8-d153-46ae-e338-f71998d72206"
      },
      "outputs": [
        {
          "output_type": "display_data",
          "data": {
            "text/plain": [
              "<Figure size 1500x1200 with 20 Axes>"
            ],
            "image/png": "[encoded data removed]"
          },
          "metadata": {}
        }
      ],
      "source": [
        "dataset.plot(kind='kde',subplots=True,layout=(10,2),figsize=(15,12), sharex=False)\n",
        "plt.show()"
      ]
    },
    {
      "cell_type": "markdown",
      "source": [
        "Show data distribution based on histogram"
      ],
      "metadata": {
        "id": "wLLPYJxoBkJj"
      }
    },
    {
      "cell_type": "code",
      "source": [
        "dataset.plot(kind='hist',subplots=True,layout=(10,2),figsize=(15,12), sharex=False)\n",
        "plt.show()"
      ],
      "metadata": {
        "colab": {
          "base_uri": "https://localhost:8080/",
          "height": 267
        },
        "id": "oGUJFv6oj_Ub",
        "outputId": "b9326746-d291-483e-ba0e-4820628d7662"
      },
      "execution_count": 45,
      "outputs": [
        {
          "output_type": "display_data",
          "data": {
            "text/plain": [
              "<Figure size 1500x1200 with 20 Axes>"
            ],
            "image/png": "[encoded data removed]"
          },
          "metadata": {}
        }
      ]
    },
    {
      "cell_type": "code",
      "source": [
        "dataset.plot(kind='line',subplots=True,layout=(10,2),figsize=(15,12), sharex=False)\n",
        "plt.show()"
      ],
      "metadata": {
        "colab": {
          "base_uri": "https://localhost:8080/",
          "height": 272
        },
        "id": "MGk91iI0kZ_3",
        "outputId": "a9589555-89d8-4368-9025-b7b87d290161"
      },
      "execution_count": 46,
      "outputs": [
        {
          "output_type": "display_data",
          "data": {
            "text/plain": [
              "<Figure size 1500x1200 with 20 Axes>"
            ],
            "image/png": "[encoded data removed]"
          },
          "metadata": {}
        }
      ]
    },
    {
      "cell_type": "markdown",
      "source": [
        "**3.2 CORRELATION MATRIX**"
      ],
      "metadata": {
        "id": "Rdb2Vu6ER6bG"
      }
    },
    {
      "cell_type": "markdown",
      "source": [
        "correlation matrix disini ditampilkan menggunaka scatter plot, seperti berikut"
      ],
      "metadata": {
        "id": "rkUBr8mS101V"
      }
    },
    {
      "cell_type": "code",
      "execution_count": 47,
      "metadata": {
        "colab": {
          "base_uri": "https://localhost:8080/",
          "height": 1000
        },
        "id": "JJfeTBE8AoEU",
        "outputId": "b5d869b9-cb0f-4c91-eea2-b964666185fd"
      },
      "outputs": [
        {
          "output_type": "display_data",
          "data": {
            "text/plain": [
              "<Figure size 1200x1200 with 9 Axes>"
            ],
            "image/png": "[encoded data removed]"
          },
          "metadata": {}
        }
      ],
      "source": [
        "pd.plotting.scatter_matrix(dataset,figsize=(12,12))\n",
        "plt.show()"
      ]
    },
    {
      "cell_type": "markdown",
      "source": [
        "dari scatter plot diatas kita dapat melihat perbandingan anatar kolom satu dengan yang lainnya. pada grafik tersebut ditampilkan diagram batang atau hitogram hal tersebut karena membandingkan antara masing-masing kolom sepert kolom A dengan kolom A, kolom B dengan kolom B begitupun seterusnya. karena dengan scatter plot terasa cukup sulit untuk membacanya, untuk memastikan digunakan heatmap"
      ],
      "metadata": {
        "id": "JspbeLbm2CGe"
      }
    },
    {
      "cell_type": "markdown",
      "source": [
        "correlation matrix with heatmap"
      ],
      "metadata": {
        "id": "3GkOv0zVElyF"
      }
    },
    {
      "cell_type": "code",
      "execution_count": 48,
      "metadata": {
        "colab": {
          "base_uri": "https://localhost:8080/",
          "height": 721
        },
        "id": "QOpTY-zcm2al",
        "outputId": "df201913-023e-4939-f50c-58898add011a"
      },
      "outputs": [
        {
          "output_type": "stream",
          "name": "stderr",
          "text": [
            "<ipython-input-48-4b443a21f68f>:2: FutureWarning: The default value of numeric_only in DataFrame.corr is deprecated. In a future version, it will default to False. Select only valid columns or specify the value of numeric_only to silence this warning.\n",
            "  corr = corr_data.corr()\n"
          ]
        },
        {
          "output_type": "display_data",
          "data": {
            "text/plain": [
              "<Figure size 1500x700 with 2 Axes>"
            ],
            "image/png": "[encoded data removed]"
          },
          "metadata": {}
        }
      ],
      "source": [
        "corr_data = dataset\n",
        "corr = corr_data.corr()\n",
        "\n",
        "cor_plot = sns.heatmap(corr,annot=True,cmap='RdYlGn',linewidths=0.2,annot_kws={'size':10})\n",
        "fig=plt.gcf()\n",
        "fig.set_size_inches(15,7)\n",
        "plt.xticks(fontsize=10,rotation=-30)\n",
        "plt.yticks(fontsize=10)\n",
        "plt.title('Correlation Matrix')\n",
        "plt.show()"
      ]
    },
    {
      "cell_type": "markdown",
      "source": [
        "pada gambar heatmap diatas dapat diketahui kolom dengan korelasi paling buruk terdapat pada kolom locationID dengan nilai 0.0063 dan YearEnd dengan nilai 0.0063."
      ],
      "metadata": {
        "id": "-K2lY1Z73jWl"
      }
    },
    {
      "cell_type": "markdown",
      "source": [
        "**4. Splitting Dataset**"
      ],
      "metadata": {
        "id": "Ue-S5QvcEZP3"
      }
    },
    {
      "cell_type": "markdown",
      "source": [
        "Splitting Dataset atau pemisahan data digunakan untuk mengevaluasi atau uji data dan digunakan untuk melatih model"
      ],
      "metadata": {
        "id": "liDD09As1QQE"
      }
    },
    {
      "cell_type": "markdown",
      "source": [
        "**4.1 Slicing**"
      ],
      "metadata": {
        "id": "y6eAqlWSHSCa"
      }
    },
    {
      "cell_type": "markdown",
      "source": [
        "digunakan untuk menetukan label dan data inputan yang akan digunakan, disini saya menggunakan LocationAbbr sebagai label, jadi kolom selain label termasuk kedalam inputan."
      ],
      "metadata": {
        "id": "5PN2cf5Z4de-"
      }
    },
    {
      "cell_type": "markdown",
      "source": [
        "We define x and y as x for data and y for label"
      ],
      "metadata": {
        "id": "bPWKEA19HYEQ"
      }
    },
    {
      "cell_type": "code",
      "source": [
        "x = dataset.drop('LocationAbbr', axis=1)\n",
        "x"
      ],
      "metadata": {
        "colab": {
          "base_uri": "https://localhost:8080/",
          "height": 852
        },
        "id": "hCep1ou2LfU1",
        "outputId": "b2e62822-9a81-478b-d907-ac1887a74626"
      },
      "execution_count": 49,
      "outputs": [
        {
          "output_type": "execute_result",
          "data": {
            "text/plain": [
              "         YearStart  YearEnd          LocationDesc DataSource         Topic  \\\n",
              "0             2014     2014              Arkansas  SEDD; SID        Asthma   \n",
              "1             2018     2018              Colorado  SEDD; SID        Asthma   \n",
              "2             2018     2018  District of Columbia  SEDD; SID        Asthma   \n",
              "3             2017     2017               Georgia  SEDD; SID        Asthma   \n",
              "4             2010     2010              Michigan  SEDD; SID        Asthma   \n",
              "...            ...      ...                   ...        ...           ...   \n",
              "1185671       2020     2020               Wyoming      BRFSS      Diabetes   \n",
              "1185672       2020     2020               Wyoming      BRFSS  Older Adults   \n",
              "1185673       2017     2017                  Iowa      BRFSS     Arthritis   \n",
              "1185674       2020     2020               Wyoming      BRFSS      Diabetes   \n",
              "1185675       2019     2019          Rhode Island      BRFSS     Arthritis   \n",
              "\n",
              "                                                  Question  \\\n",
              "0                              Hospitalizations for asthma   \n",
              "1                              Hospitalizations for asthma   \n",
              "2                              Hospitalizations for asthma   \n",
              "3                              Hospitalizations for asthma   \n",
              "4                              Hospitalizations for asthma   \n",
              "...                                                    ...   \n",
              "1185671  Dilated eye examination among adults aged >= 1...   \n",
              "1185672  Proportion of older adults aged >= 65 years wh...   \n",
              "1185673  Activity limitation due to arthritis among adu...   \n",
              "1185674   Diabetes prevalence among women aged 18-44 years   \n",
              "1185675  Activity limitation due to arthritis among adu...   \n",
              "\n",
              "                   DataValueType StratificationCategory1      Stratification1  \\\n",
              "0                         Number                  Gender                 Male   \n",
              "1                         Number                 Overall              Overall   \n",
              "2                         Number                 Overall              Overall   \n",
              "3                         Number                  Gender               Female   \n",
              "4                         Number          Race/Ethnicity             Hispanic   \n",
              "...                          ...                     ...                  ...   \n",
              "1185671  Age-adjusted Prevalence          Race/Ethnicity  White, non-Hispanic   \n",
              "1185672         Crude Prevalence          Race/Ethnicity  White, non-Hispanic   \n",
              "1185673  Age-adjusted Prevalence          Race/Ethnicity             Hispanic   \n",
              "1185674         Crude Prevalence          Race/Ethnicity             Hispanic   \n",
              "1185675         Crude Prevalence                 Overall              Overall   \n",
              "\n",
              "         LocationID TopicID QuestionID DataValueTypeID  \\\n",
              "0                 5     AST     AST3_1            NMBR   \n",
              "1                 8     AST     AST3_1            NMBR   \n",
              "2                11     AST     AST3_1            NMBR   \n",
              "3                13     AST     AST3_1            NMBR   \n",
              "4                26     AST     AST3_1            NMBR   \n",
              "...             ...     ...        ...             ...   \n",
              "1185671          56     DIA     DIA7_0      AGEADJPREV   \n",
              "1185672          56     OLD     OLD3_1         CRDPREV   \n",
              "1185673          19     ART     ART2_1      AGEADJPREV   \n",
              "1185674          56     DIA     DIA2_2         CRDPREV   \n",
              "1185675          44     ART     ART2_1         CRDPREV   \n",
              "\n",
              "        StratificationCategoryID1 StratificationID1  \n",
              "0                          GENDER              GENM  \n",
              "1                         OVERALL               OVR  \n",
              "2                         OVERALL               OVR  \n",
              "3                          GENDER              GENF  \n",
              "4                            RACE               HIS  \n",
              "...                           ...               ...  \n",
              "1185671                      RACE               WHT  \n",
              "1185672                      RACE               WHT  \n",
              "1185673                      RACE               HIS  \n",
              "1185674                      RACE               HIS  \n",
              "1185675                   OVERALL               OVR  \n",
              "\n",
              "[1185572 rows x 15 columns]"
            ],
            "text/html": [
              "\n",
              "  <div id=\"df-74e38425-5b35-4699-9396-db1a7a496868\">\n",
              "    <div class=\"colab-df-container\">\n",
              "      <div>\n",
              "<style scoped>\n",
              "    .dataframe tbody tr th:only-of-type {\n",
              "        vertical-align: middle;\n",
              "    }\n",
              "\n",
              "    .dataframe tbody tr th {\n",
              "        vertical-align: top;\n",
              "    }\n",
              "\n",
              "    .dataframe thead th {\n",
              "        text-align: right;\n",
              "    }\n",
              "</style>\n",
              "<table border=\"1\" class=\"dataframe\">\n",
              "  <thead>\n",
              "    <tr style=\"text-align: right;\">\n",
              "      <th></th>\n",
              "      <th>YearStart</th>\n",
              "      <th>YearEnd</th>\n",
              "      <th>LocationDesc</th>\n",
              "      <th>DataSource</th>\n",
              "      <th>Topic</th>\n",
              "      <th>Question</th>\n",
              "      <th>DataValueType</th>\n",
              "      <th>StratificationCategory1</th>\n",
              "      <th>Stratification1</th>\n",
              "      <th>LocationID</th>\n",
              "      <th>TopicID</th>\n",
              "      <th>QuestionID</th>\n",
              "      <th>DataValueTypeID</th>\n",
              "      <th>StratificationCategoryID1</th>\n",
              "      <th>StratificationID1</th>\n",
              "    </tr>\n",
              "  </thead>\n",
              "  <tbody>\n",
              "    <tr>\n",
              "      <th>0</th>\n",
              "      <td>2014</td>\n",
              "      <td>2014</td>\n",
              "      <td>Arkansas</td>\n",
              "      <td>SEDD; SID</td>\n",
              "      <td>Asthma</td>\n",
              "      <td>Hospitalizations for asthma</td>\n",
              "      <td>Number</td>\n",
              "      <td>Gender</td>\n",
              "      <td>Male</td>\n",
              "      <td>5</td>\n",
              "      <td>AST</td>\n",
              "      <td>AST3_1</td>\n",
              "      <td>NMBR</td>\n",
              "      <td>GENDER</td>\n",
              "      <td>GENM</td>\n",
              "    </tr>\n",
              "    <tr>\n",
              "      <th>1</th>\n",
              "      <td>2018</td>\n",
              "      <td>2018</td>\n",
              "      <td>Colorado</td>\n",
              "      <td>SEDD; SID</td>\n",
              "      <td>Asthma</td>\n",
              "      <td>Hospitalizations for asthma</td>\n",
              "      <td>Number</td>\n",
              "      <td>Overall</td>\n",
              "      <td>Overall</td>\n",
              "      <td>8</td>\n",
              "      <td>AST</td>\n",
              "      <td>AST3_1</td>\n",
              "      <td>NMBR</td>\n",
              "      <td>OVERALL</td>\n",
              "      <td>OVR</td>\n",
              "    </tr>\n",
              "    <tr>\n",
              "      <th>2</th>\n",
              "      <td>2018</td>\n",
              "      <td>2018</td>\n",
              "      <td>District of Columbia</td>\n",
              "      <td>SEDD; SID</td>\n",
              "      <td>Asthma</td>\n",
              "      <td>Hospitalizations for asthma</td>\n",
              "      <td>Number</td>\n",
              "      <td>Overall</td>\n",
              "      <td>Overall</td>\n",
              "      <td>11</td>\n",
              "      <td>AST</td>\n",
              "      <td>AST3_1</td>\n",
              "      <td>NMBR</td>\n",
              "      <td>OVERALL</td>\n",
              "      <td>OVR</td>\n",
              "    </tr>\n",
              "    <tr>\n",
              "      <th>3</th>\n",
              "      <td>2017</td>\n",
              "      <td>2017</td>\n",
              "      <td>Georgia</td>\n",
              "      <td>SEDD; SID</td>\n",
              "      <td>Asthma</td>\n",
              "      <td>Hospitalizations for asthma</td>\n",
              "      <td>Number</td>\n",
              "      <td>Gender</td>\n",
              "      <td>Female</td>\n",
              "      <td>13</td>\n",
              "      <td>AST</td>\n",
              "      <td>AST3_1</td>\n",
              "      <td>NMBR</td>\n",
              "      <td>GENDER</td>\n",
              "      <td>GENF</td>\n",
              "    </tr>\n",
              "    <tr>\n",
              "      <th>4</th>\n",
              "      <td>2010</td>\n",
              "      <td>2010</td>\n",
              "      <td>Michigan</td>\n",
              "      <td>SEDD; SID</td>\n",
              "      <td>Asthma</td>\n",
              "      <td>Hospitalizations for asthma</td>\n",
              "      <td>Number</td>\n",
              "      <td>Race/Ethnicity</td>\n",
              "      <td>Hispanic</td>\n",
              "      <td>26</td>\n",
              "      <td>AST</td>\n",
              "      <td>AST3_1</td>\n",
              "      <td>NMBR</td>\n",
              "      <td>RACE</td>\n",
              "      <td>HIS</td>\n",
              "    </tr>\n",
              "    <tr>\n",
              "      <th>...</th>\n",
              "      <td>...</td>\n",
              "      <td>...</td>\n",
              "      <td>...</td>\n",
              "      <td>...</td>\n",
              "      <td>...</td>\n",
              "      <td>...</td>\n",
              "      <td>...</td>\n",
              "      <td>...</td>\n",
              "      <td>...</td>\n",
              "      <td>...</td>\n",
              "      <td>...</td>\n",
              "      <td>...</td>\n",
              "      <td>...</td>\n",
              "      <td>...</td>\n",
              "      <td>...</td>\n",
              "    </tr>\n",
              "    <tr>\n",
              "      <th>1185671</th>\n",
              "      <td>2020</td>\n",
              "      <td>2020</td>\n",
              "      <td>Wyoming</td>\n",
              "      <td>BRFSS</td>\n",
              "      <td>Diabetes</td>\n",
              "      <td>Dilated eye examination among adults aged &gt;= 1...</td>\n",
              "      <td>Age-adjusted Prevalence</td>\n",
              "      <td>Race/Ethnicity</td>\n",
              "      <td>White, non-Hispanic</td>\n",
              "      <td>56</td>\n",
              "      <td>DIA</td>\n",
              "      <td>DIA7_0</td>\n",
              "      <td>AGEADJPREV</td>\n",
              "      <td>RACE</td>\n",
              "      <td>WHT</td>\n",
              "    </tr>\n",
              "    <tr>\n",
              "      <th>1185672</th>\n",
              "      <td>2020</td>\n",
              "      <td>2020</td>\n",
              "      <td>Wyoming</td>\n",
              "      <td>BRFSS</td>\n",
              "      <td>Older Adults</td>\n",
              "      <td>Proportion of older adults aged &gt;= 65 years wh...</td>\n",
              "      <td>Crude Prevalence</td>\n",
              "      <td>Race/Ethnicity</td>\n",
              "      <td>White, non-Hispanic</td>\n",
              "      <td>56</td>\n",
              "      <td>OLD</td>\n",
              "      <td>OLD3_1</td>\n",
              "      <td>CRDPREV</td>\n",
              "      <td>RACE</td>\n",
              "      <td>WHT</td>\n",
              "    </tr>\n",
              "    <tr>\n",
              "      <th>1185673</th>\n",
              "      <td>2017</td>\n",
              "      <td>2017</td>\n",
              "      <td>Iowa</td>\n",
              "      <td>BRFSS</td>\n",
              "      <td>Arthritis</td>\n",
              "      <td>Activity limitation due to arthritis among adu...</td>\n",
              "      <td>Age-adjusted Prevalence</td>\n",
              "      <td>Race/Ethnicity</td>\n",
              "      <td>Hispanic</td>\n",
              "      <td>19</td>\n",
              "      <td>ART</td>\n",
              "      <td>ART2_1</td>\n",
              "      <td>AGEADJPREV</td>\n",
              "      <td>RACE</td>\n",
              "      <td>HIS</td>\n",
              "    </tr>\n",
              "    <tr>\n",
              "      <th>1185674</th>\n",
              "      <td>2020</td>\n",
              "      <td>2020</td>\n",
              "      <td>Wyoming</td>\n",
              "      <td>BRFSS</td>\n",
              "      <td>Diabetes</td>\n",
              "      <td>Diabetes prevalence among women aged 18-44 years</td>\n",
              "      <td>Crude Prevalence</td>\n",
              "      <td>Race/Ethnicity</td>\n",
              "      <td>Hispanic</td>\n",
              "      <td>56</td>\n",
              "      <td>DIA</td>\n",
              "      <td>DIA2_2</td>\n",
              "      <td>CRDPREV</td>\n",
              "      <td>RACE</td>\n",
              "      <td>HIS</td>\n",
              "    </tr>\n",
              "    <tr>\n",
              "      <th>1185675</th>\n",
              "      <td>2019</td>\n",
              "      <td>2019</td>\n",
              "      <td>Rhode Island</td>\n",
              "      <td>BRFSS</td>\n",
              "      <td>Arthritis</td>\n",
              "      <td>Activity limitation due to arthritis among adu...</td>\n",
              "      <td>Crude Prevalence</td>\n",
              "      <td>Overall</td>\n",
              "      <td>Overall</td>\n",
              "      <td>44</td>\n",
              "      <td>ART</td>\n",
              "      <td>ART2_1</td>\n",
              "      <td>CRDPREV</td>\n",
              "      <td>OVERALL</td>\n",
              "      <td>OVR</td>\n",
              "    </tr>\n",
              "  </tbody>\n",
              "</table>\n",
              "<p>1185572 rows × 15 columns</p>\n",
              "</div>\n",
              "      <button class=\"colab-df-convert\" onclick=\"convertToInteractive('df-74e38425-5b35-4699-9396-db1a7a496868')\"\n",
              "              title=\"Convert this dataframe to an interactive table.\"\n",
              "              style=\"display:none;\">\n",
              "        \n",
              "  <svg xmlns=\"http://www.w3.org/2000/svg\" height=\"24px\"viewBox=\"0 0 24 24\"\n",
              "       width=\"24px\">\n",
              "    <path d=\"M0 0h24v24H0V0z\" fill=\"none\"/>\n",
              "    <path d=\"M18.56 5.44l.94 2.06.94-2.06 2.06-.94-2.06-.94-.94-2.06-.94 2.06-2.06.94zm-11 1L8.5 8.5l.94-2.06 2.06-.94-2.06-.94L8.5 2.5l-.94 2.06-2.06.94zm10 10l.94 2.06.94-2.06 2.06-.94-2.06-.94-.94-2.06-.94 2.06-2.06.94z\"/><path d=\"M17.41 7.96l-1.37-1.37c-.4-.4-.92-.59-1.43-.59-.52 0-1.04.2-1.43.59L10.3 9.45l-7.72 7.72c-.78.78-.78 2.05 0 2.83L4 21.41c.39.39.9.59 1.41.59.51 0 1.02-.2 1.41-.59l7.78-7.78 2.81-2.81c.8-.78.8-2.07 0-2.86zM5.41 20L4 18.59l7.72-7.72 1.47 1.35L5.41 20z\"/>\n",
              "  </svg>\n",
              "      </button>\n",
              "      \n",
              "  <style>\n",
              "    .colab-df-container {\n",
              "      display:flex;\n",
              "      flex-wrap:wrap;\n",
              "      gap: 12px;\n",
              "    }\n",
              "\n",
              "    .colab-df-convert {\n",
              "      background-color: #E8F0FE;\n",
              "      border: none;\n",
              "      border-radius: 50%;\n",
              "      cursor: pointer;\n",
              "      display: none;\n",
              "      fill: #1967D2;\n",
              "      height: 32px;\n",
              "      padding: 0 0 0 0;\n",
              "      width: 32px;\n",
              "    }\n",
              "\n",
              "    .colab-df-convert:hover {\n",
              "      background-color: #E2EBFA;\n",
              "      box-shadow: 0px 1px 2px rgba(60, 64, 67, 0.3), 0px 1px 3px 1px rgba(60, 64, 67, 0.15);\n",
              "      fill: #174EA6;\n",
              "    }\n",
              "\n",
              "    [theme=dark] .colab-df-convert {\n",
              "      background-color: #3B4455;\n",
              "      fill: #D2E3FC;\n",
              "    }\n",
              "\n",
              "    [theme=dark] .colab-df-convert:hover {\n",
              "      background-color: #434B5C;\n",
              "      box-shadow: 0px 1px 3px 1px rgba(0, 0, 0, 0.15);\n",
              "      filter: drop-shadow(0px 1px 2px rgba(0, 0, 0, 0.3));\n",
              "      fill: #FFFFFF;\n",
              "    }\n",
              "  </style>\n",
              "\n",
              "      <script>\n",
              "        const buttonEl =\n",
              "          document.querySelector('#df-74e38425-5b35-4699-9396-db1a7a496868 button.colab-df-convert');\n",
              "        buttonEl.style.display =\n",
              "          google.colab.kernel.accessAllowed ? 'block' : 'none';\n",
              "\n",
              "        async function convertToInteractive(key) {\n",
              "          const element = document.querySelector('#df-74e38425-5b35-4699-9396-db1a7a496868');\n",
              "          const dataTable =\n",
              "            await google.colab.kernel.invokeFunction('convertToInteractive',\n",
              "                                                     [key], {});\n",
              "          if (!dataTable) return;\n",
              "\n",
              "          const docLinkHtml = 'Like what you see? Visit the ' +\n",
              "            '<a target=\"_blank\" href=https://colab.research.google.com/notebooks/data_table.ipynb>data table notebook</a>'\n",
              "            + ' to learn more about interactive tables.';\n",
              "          element.innerHTML = '';\n",
              "          dataTable['output_type'] = 'display_data';\n",
              "          await google.colab.output.renderOutput(dataTable, element);\n",
              "          const docLink = document.createElement('div');\n",
              "          docLink.innerHTML = docLinkHtml;\n",
              "          element.appendChild(docLink);\n",
              "        }\n",
              "      </script>\n",
              "    </div>\n",
              "  </div>\n",
              "  "
            ]
          },
          "metadata": {},
          "execution_count": 49
        }
      ]
    },
    {
      "cell_type": "markdown",
      "source": [
        "Choose feature Type as a label"
      ],
      "metadata": {
        "id": "SkZgXnQ-tST1"
      }
    },
    {
      "cell_type": "code",
      "source": [
        "y = dataset[\"LocationAbbr\"]\n",
        "y"
      ],
      "metadata": {
        "colab": {
          "base_uri": "https://localhost:8080/"
        },
        "id": "WOZTLMYeh3hj",
        "outputId": "9f9474ff-a3a2-456d-d6aa-83a911f1324d"
      },
      "execution_count": 50,
      "outputs": [
        {
          "output_type": "execute_result",
          "data": {
            "text/plain": [
              "0          AR\n",
              "1          CO\n",
              "2          DC\n",
              "3          GA\n",
              "4          MI\n",
              "           ..\n",
              "1185671    WY\n",
              "1185672    WY\n",
              "1185673    IA\n",
              "1185674    WY\n",
              "1185675    RI\n",
              "Name: LocationAbbr, Length: 1185572, dtype: object"
            ]
          },
          "metadata": {},
          "execution_count": 50
        }
      ]
    },
    {
      "cell_type": "code",
      "source": [
        "y.values.reshape(-1,1)"
      ],
      "metadata": {
        "colab": {
          "base_uri": "https://localhost:8080/"
        },
        "id": "l6idhdXTrLAD",
        "outputId": "3373260c-6eb5-4a94-815f-9752231eb947"
      },
      "execution_count": 51,
      "outputs": [
        {
          "output_type": "execute_result",
          "data": {
            "text/plain": [
              "array([['AR'],\n",
              "       ['CO'],\n",
              "       ['DC'],\n",
              "       ...,\n",
              "       ['IA'],\n",
              "       ['WY'],\n",
              "       ['RI']], dtype=object)"
            ]
          },
          "metadata": {},
          "execution_count": 51
        }
      ]
    },
    {
      "cell_type": "markdown",
      "source": [
        "**4.2 Categorical Encoding**\n",
        "karena masih terdapat data yang tipenya string maka data tersebut perlu dirubah menjadi numerical. karena kebanyak mesin learning model tidak dapat menerima string. maka perlu dilakukan transforming Categorical Encoding. data yang dirubah hanya akan muncul antara 0 dan 1. jika data tersebut muncul akan dihitung menjadi 1 dan untuk data yang tidak muncul akan dihitung menjadi 0\n",
        "\n",
        "Choose One Hot Encoding or Label Encoding for perform categorical encoding\n",
        "\n",
        "**One-Hot Encoding for data input x**"
      ],
      "metadata": {
        "id": "-KhD3RU7qniq"
      }
    },
    {
      "cell_type": "code",
      "source": [
        "x = pd.get_dummies(x)\n",
        "x"
      ],
      "metadata": {
        "colab": {
          "base_uri": "https://localhost:8080/",
          "height": 487
        },
        "id": "y_K5f2vyqNef",
        "outputId": "06fb27de-c89b-41e6-97d5-c762bff18e50"
      },
      "execution_count": 52,
      "outputs": [
        {
          "output_type": "execute_result",
          "data": {
            "text/plain": [
              "         YearStart  YearEnd  LocationID  LocationDesc_Alabama  \\\n",
              "0             2014     2014           5                     0   \n",
              "1             2018     2018           8                     0   \n",
              "2             2018     2018          11                     0   \n",
              "3             2017     2017          13                     0   \n",
              "4             2010     2010          26                     0   \n",
              "...            ...      ...         ...                   ...   \n",
              "1185671       2020     2020          56                     0   \n",
              "1185672       2020     2020          56                     0   \n",
              "1185673       2017     2017          19                     0   \n",
              "1185674       2020     2020          56                     0   \n",
              "1185675       2019     2019          44                     0   \n",
              "\n",
              "         LocationDesc_Alaska  LocationDesc_Arizona  LocationDesc_Arkansas  \\\n",
              "0                          0                     0                      1   \n",
              "1                          0                     0                      0   \n",
              "2                          0                     0                      0   \n",
              "3                          0                     0                      0   \n",
              "4                          0                     0                      0   \n",
              "...                      ...                   ...                    ...   \n",
              "1185671                    0                     0                      0   \n",
              "1185672                    0                     0                      0   \n",
              "1185673                    0                     0                      0   \n",
              "1185674                    0                     0                      0   \n",
              "1185675                    0                     0                      0   \n",
              "\n",
              "         LocationDesc_California  LocationDesc_Colorado  \\\n",
              "0                              0                      0   \n",
              "1                              0                      1   \n",
              "2                              0                      0   \n",
              "3                              0                      0   \n",
              "4                              0                      0   \n",
              "...                          ...                    ...   \n",
              "1185671                        0                      0   \n",
              "1185672                        0                      0   \n",
              "1185673                        0                      0   \n",
              "1185674                        0                      0   \n",
              "1185675                        0                      0   \n",
              "\n",
              "         LocationDesc_Connecticut  ...  StratificationID1_APIO  \\\n",
              "0                               0  ...                       0   \n",
              "1                               0  ...                       0   \n",
              "2                               0  ...                       0   \n",
              "3                               0  ...                       0   \n",
              "4                               0  ...                       0   \n",
              "...                           ...  ...                     ...   \n",
              "1185671                         0  ...                       0   \n",
              "1185672                         0  ...                       0   \n",
              "1185673                         0  ...                       0   \n",
              "1185674                         0  ...                       0   \n",
              "1185675                         0  ...                       0   \n",
              "\n",
              "         StratificationID1_ASN  StratificationID1_BLK  StratificationID1_GENF  \\\n",
              "0                            0                      0                       0   \n",
              "1                            0                      0                       0   \n",
              "2                            0                      0                       0   \n",
              "3                            0                      0                       1   \n",
              "4                            0                      0                       0   \n",
              "...                        ...                    ...                     ...   \n",
              "1185671                      0                      0                       0   \n",
              "1185672                      0                      0                       0   \n",
              "1185673                      0                      0                       0   \n",
              "1185674                      0                      0                       0   \n",
              "1185675                      0                      0                       0   \n",
              "\n",
              "         StratificationID1_GENM  StratificationID1_HIS  StratificationID1_MRC  \\\n",
              "0                             1                      0                      0   \n",
              "1                             0                      0                      0   \n",
              "2                             0                      0                      0   \n",
              "3                             0                      0                      0   \n",
              "4                             0                      1                      0   \n",
              "...                         ...                    ...                    ...   \n",
              "1185671                       0                      0                      0   \n",
              "1185672                       0                      0                      0   \n",
              "1185673                       0                      1                      0   \n",
              "1185674                       0                      1                      0   \n",
              "1185675                       0                      0                      0   \n",
              "\n",
              "         StratificationID1_OTH  StratificationID1_OVR  StratificationID1_WHT  \n",
              "0                            0                      0                      0  \n",
              "1                            0                      1                      0  \n",
              "2                            0                      1                      0  \n",
              "3                            0                      0                      0  \n",
              "4                            0                      0                      0  \n",
              "...                        ...                    ...                    ...  \n",
              "1185671                      0                      0                      1  \n",
              "1185672                      0                      0                      1  \n",
              "1185673                      0                      0                      0  \n",
              "1185674                      0                      0                      0  \n",
              "1185675                      0                      1                      0  \n",
              "\n",
              "[1185572 rows x 597 columns]"
            ],
            "text/html": [
              "\n",
              "  <div id=\"df-2f81c592-5f3f-4364-a542-c09e9f13bf9c\">\n",
              "    <div class=\"colab-df-container\">\n",
              "      <div>\n",
              "<style scoped>\n",
              "    .dataframe tbody tr th:only-of-type {\n",
              "        vertical-align: middle;\n",
              "    }\n",
              "\n",
              "    .dataframe tbody tr th {\n",
              "        vertical-align: top;\n",
              "    }\n",
              "\n",
              "    .dataframe thead th {\n",
              "        text-align: right;\n",
              "    }\n",
              "</style>\n",
              "<table border=\"1\" class=\"dataframe\">\n",
              "  <thead>\n",
              "    <tr style=\"text-align: right;\">\n",
              "      <th></th>\n",
              "      <th>YearStart</th>\n",
              "      <th>YearEnd</th>\n",
              "      <th>LocationID</th>\n",
              "      <th>LocationDesc_Alabama</th>\n",
              "      <th>LocationDesc_Alaska</th>\n",
              "      <th>LocationDesc_Arizona</th>\n",
              "      <th>LocationDesc_Arkansas</th>\n",
              "      <th>LocationDesc_California</th>\n",
              "      <th>LocationDesc_Colorado</th>\n",
              "      <th>LocationDesc_Connecticut</th>\n",
              "      <th>...</th>\n",
              "      <th>StratificationID1_APIO</th>\n",
              "      <th>StratificationID1_ASN</th>\n",
              "      <th>StratificationID1_BLK</th>\n",
              "      <th>StratificationID1_GENF</th>\n",
              "      <th>StratificationID1_GENM</th>\n",
              "      <th>StratificationID1_HIS</th>\n",
              "      <th>StratificationID1_MRC</th>\n",
              "      <th>StratificationID1_OTH</th>\n",
              "      <th>StratificationID1_OVR</th>\n",
              "      <th>StratificationID1_WHT</th>\n",
              "    </tr>\n",
              "  </thead>\n",
              "  <tbody>\n",
              "    <tr>\n",
              "      <th>0</th>\n",
              "      <td>2014</td>\n",
              "      <td>2014</td>\n",
              "      <td>5</td>\n",
              "      <td>0</td>\n",
              "      <td>0</td>\n",
              "      <td>0</td>\n",
              "      <td>1</td>\n",
              "      <td>0</td>\n",
              "      <td>0</td>\n",
              "      <td>0</td>\n",
              "      <td>...</td>\n",
              "      <td>0</td>\n",
              "      <td>0</td>\n",
              "      <td>0</td>\n",
              "      <td>0</td>\n",
              "      <td>1</td>\n",
              "      <td>0</td>\n",
              "      <td>0</td>\n",
              "      <td>0</td>\n",
              "      <td>0</td>\n",
              "      <td>0</td>\n",
              "    </tr>\n",
              "    <tr>\n",
              "      <th>1</th>\n",
              "      <td>2018</td>\n",
              "      <td>2018</td>\n",
              "      <td>8</td>\n",
              "      <td>0</td>\n",
              "      <td>0</td>\n",
              "      <td>0</td>\n",
              "      <td>0</td>\n",
              "      <td>0</td>\n",
              "      <td>1</td>\n",
              "      <td>0</td>\n",
              "      <td>...</td>\n",
              "      <td>0</td>\n",
              "      <td>0</td>\n",
              "      <td>0</td>\n",
              "      <td>0</td>\n",
              "      <td>0</td>\n",
              "      <td>0</td>\n",
              "      <td>0</td>\n",
              "      <td>0</td>\n",
              "      <td>1</td>\n",
              "      <td>0</td>\n",
              "    </tr>\n",
              "    <tr>\n",
              "      <th>2</th>\n",
              "      <td>2018</td>\n",
              "      <td>2018</td>\n",
              "      <td>11</td>\n",
              "      <td>0</td>\n",
              "      <td>0</td>\n",
              "      <td>0</td>\n",
              "      <td>0</td>\n",
              "      <td>0</td>\n",
              "      <td>0</td>\n",
              "      <td>0</td>\n",
              "      <td>...</td>\n",
              "      <td>0</td>\n",
              "      <td>0</td>\n",
              "      <td>0</td>\n",
              "      <td>0</td>\n",
              "      <td>0</td>\n",
              "      <td>0</td>\n",
              "      <td>0</td>\n",
              "      <td>0</td>\n",
              "      <td>1</td>\n",
              "      <td>0</td>\n",
              "    </tr>\n",
              "    <tr>\n",
              "      <th>3</th>\n",
              "      <td>2017</td>\n",
              "      <td>2017</td>\n",
              "      <td>13</td>\n",
              "      <td>0</td>\n",
              "      <td>0</td>\n",
              "      <td>0</td>\n",
              "      <td>0</td>\n",
              "      <td>0</td>\n",
              "      <td>0</td>\n",
              "      <td>0</td>\n",
              "      <td>...</td>\n",
              "      <td>0</td>\n",
              "      <td>0</td>\n",
              "      <td>0</td>\n",
              "      <td>1</td>\n",
              "      <td>0</td>\n",
              "      <td>0</td>\n",
              "      <td>0</td>\n",
              "      <td>0</td>\n",
              "      <td>0</td>\n",
              "      <td>0</td>\n",
              "    </tr>\n",
              "    <tr>\n",
              "      <th>4</th>\n",
              "      <td>2010</td>\n",
              "      <td>2010</td>\n",
              "      <td>26</td>\n",
              "      <td>0</td>\n",
              "      <td>0</td>\n",
              "      <td>0</td>\n",
              "      <td>0</td>\n",
              "      <td>0</td>\n",
              "      <td>0</td>\n",
              "      <td>0</td>\n",
              "      <td>...</td>\n",
              "      <td>0</td>\n",
              "      <td>0</td>\n",
              "      <td>0</td>\n",
              "      <td>0</td>\n",
              "      <td>0</td>\n",
              "      <td>1</td>\n",
              "      <td>0</td>\n",
              "      <td>0</td>\n",
              "      <td>0</td>\n",
              "      <td>0</td>\n",
              "    </tr>\n",
              "    <tr>\n",
              "      <th>...</th>\n",
              "      <td>...</td>\n",
              "      <td>...</td>\n",
              "      <td>...</td>\n",
              "      <td>...</td>\n",
              "      <td>...</td>\n",
              "      <td>...</td>\n",
              "      <td>...</td>\n",
              "      <td>...</td>\n",
              "      <td>...</td>\n",
              "      <td>...</td>\n",
              "      <td>...</td>\n",
              "      <td>...</td>\n",
              "      <td>...</td>\n",
              "      <td>...</td>\n",
              "      <td>...</td>\n",
              "      <td>...</td>\n",
              "      <td>...</td>\n",
              "      <td>...</td>\n",
              "      <td>...</td>\n",
              "      <td>...</td>\n",
              "      <td>...</td>\n",
              "    </tr>\n",
              "    <tr>\n",
              "      <th>1185671</th>\n",
              "      <td>2020</td>\n",
              "      <td>2020</td>\n",
              "      <td>56</td>\n",
              "      <td>0</td>\n",
              "      <td>0</td>\n",
              "      <td>0</td>\n",
              "      <td>0</td>\n",
              "      <td>0</td>\n",
              "      <td>0</td>\n",
              "      <td>0</td>\n",
              "      <td>...</td>\n",
              "      <td>0</td>\n",
              "      <td>0</td>\n",
              "      <td>0</td>\n",
              "      <td>0</td>\n",
              "      <td>0</td>\n",
              "      <td>0</td>\n",
              "      <td>0</td>\n",
              "      <td>0</td>\n",
              "      <td>0</td>\n",
              "      <td>1</td>\n",
              "    </tr>\n",
              "    <tr>\n",
              "      <th>1185672</th>\n",
              "      <td>2020</td>\n",
              "      <td>2020</td>\n",
              "      <td>56</td>\n",
              "      <td>0</td>\n",
              "      <td>0</td>\n",
              "      <td>0</td>\n",
              "      <td>0</td>\n",
              "      <td>0</td>\n",
              "      <td>0</td>\n",
              "      <td>0</td>\n",
              "      <td>...</td>\n",
              "      <td>0</td>\n",
              "      <td>0</td>\n",
              "      <td>0</td>\n",
              "      <td>0</td>\n",
              "      <td>0</td>\n",
              "      <td>0</td>\n",
              "      <td>0</td>\n",
              "      <td>0</td>\n",
              "      <td>0</td>\n",
              "      <td>1</td>\n",
              "    </tr>\n",
              "    <tr>\n",
              "      <th>1185673</th>\n",
              "      <td>2017</td>\n",
              "      <td>2017</td>\n",
              "      <td>19</td>\n",
              "      <td>0</td>\n",
              "      <td>0</td>\n",
              "      <td>0</td>\n",
              "      <td>0</td>\n",
              "      <td>0</td>\n",
              "      <td>0</td>\n",
              "      <td>0</td>\n",
              "      <td>...</td>\n",
              "      <td>0</td>\n",
              "      <td>0</td>\n",
              "      <td>0</td>\n",
              "      <td>0</td>\n",
              "      <td>0</td>\n",
              "      <td>1</td>\n",
              "      <td>0</td>\n",
              "      <td>0</td>\n",
              "      <td>0</td>\n",
              "      <td>0</td>\n",
              "    </tr>\n",
              "    <tr>\n",
              "      <th>1185674</th>\n",
              "      <td>2020</td>\n",
              "      <td>2020</td>\n",
              "      <td>56</td>\n",
              "      <td>0</td>\n",
              "      <td>0</td>\n",
              "      <td>0</td>\n",
              "      <td>0</td>\n",
              "      <td>0</td>\n",
              "      <td>0</td>\n",
              "      <td>0</td>\n",
              "      <td>...</td>\n",
              "      <td>0</td>\n",
              "      <td>0</td>\n",
              "      <td>0</td>\n",
              "      <td>0</td>\n",
              "      <td>0</td>\n",
              "      <td>1</td>\n",
              "      <td>0</td>\n",
              "      <td>0</td>\n",
              "      <td>0</td>\n",
              "      <td>0</td>\n",
              "    </tr>\n",
              "    <tr>\n",
              "      <th>1185675</th>\n",
              "      <td>2019</td>\n",
              "      <td>2019</td>\n",
              "      <td>44</td>\n",
              "      <td>0</td>\n",
              "      <td>0</td>\n",
              "      <td>0</td>\n",
              "      <td>0</td>\n",
              "      <td>0</td>\n",
              "      <td>0</td>\n",
              "      <td>0</td>\n",
              "      <td>...</td>\n",
              "      <td>0</td>\n",
              "      <td>0</td>\n",
              "      <td>0</td>\n",
              "      <td>0</td>\n",
              "      <td>0</td>\n",
              "      <td>0</td>\n",
              "      <td>0</td>\n",
              "      <td>0</td>\n",
              "      <td>1</td>\n",
              "      <td>0</td>\n",
              "    </tr>\n",
              "  </tbody>\n",
              "</table>\n",
              "<p>1185572 rows × 597 columns</p>\n",
              "</div>\n",
              "      <button class=\"colab-df-convert\" onclick=\"convertToInteractive('df-2f81c592-5f3f-4364-a542-c09e9f13bf9c')\"\n",
              "              title=\"Convert this dataframe to an interactive table.\"\n",
              "              style=\"display:none;\">\n",
              "        \n",
              "  <svg xmlns=\"http://www.w3.org/2000/svg\" height=\"24px\"viewBox=\"0 0 24 24\"\n",
              "       width=\"24px\">\n",
              "    <path d=\"M0 0h24v24H0V0z\" fill=\"none\"/>\n",
              "    <path d=\"M18.56 5.44l.94 2.06.94-2.06 2.06-.94-2.06-.94-.94-2.06-.94 2.06-2.06.94zm-11 1L8.5 8.5l.94-2.06 2.06-.94-2.06-.94L8.5 2.5l-.94 2.06-2.06.94zm10 10l.94 2.06.94-2.06 2.06-.94-2.06-.94-.94-2.06-.94 2.06-2.06.94z\"/><path d=\"M17.41 7.96l-1.37-1.37c-.4-.4-.92-.59-1.43-.59-.52 0-1.04.2-1.43.59L10.3 9.45l-7.72 7.72c-.78.78-.78 2.05 0 2.83L4 21.41c.39.39.9.59 1.41.59.51 0 1.02-.2 1.41-.59l7.78-7.78 2.81-2.81c.8-.78.8-2.07 0-2.86zM5.41 20L4 18.59l7.72-7.72 1.47 1.35L5.41 20z\"/>\n",
              "  </svg>\n",
              "      </button>\n",
              "      \n",
              "  <style>\n",
              "    .colab-df-container {\n",
              "      display:flex;\n",
              "      flex-wrap:wrap;\n",
              "      gap: 12px;\n",
              "    }\n",
              "\n",
              "    .colab-df-convert {\n",
              "      background-color: #E8F0FE;\n",
              "      border: none;\n",
              "      border-radius: 50%;\n",
              "      cursor: pointer;\n",
              "      display: none;\n",
              "      fill: #1967D2;\n",
              "      height: 32px;\n",
              "      padding: 0 0 0 0;\n",
              "      width: 32px;\n",
              "    }\n",
              "\n",
              "    .colab-df-convert:hover {\n",
              "      background-color: #E2EBFA;\n",
              "      box-shadow: 0px 1px 2px rgba(60, 64, 67, 0.3), 0px 1px 3px 1px rgba(60, 64, 67, 0.15);\n",
              "      fill: #174EA6;\n",
              "    }\n",
              "\n",
              "    [theme=dark] .colab-df-convert {\n",
              "      background-color: #3B4455;\n",
              "      fill: #D2E3FC;\n",
              "    }\n",
              "\n",
              "    [theme=dark] .colab-df-convert:hover {\n",
              "      background-color: #434B5C;\n",
              "      box-shadow: 0px 1px 3px 1px rgba(0, 0, 0, 0.15);\n",
              "      filter: drop-shadow(0px 1px 2px rgba(0, 0, 0, 0.3));\n",
              "      fill: #FFFFFF;\n",
              "    }\n",
              "  </style>\n",
              "\n",
              "      <script>\n",
              "        const buttonEl =\n",
              "          document.querySelector('#df-2f81c592-5f3f-4364-a542-c09e9f13bf9c button.colab-df-convert');\n",
              "        buttonEl.style.display =\n",
              "          google.colab.kernel.accessAllowed ? 'block' : 'none';\n",
              "\n",
              "        async function convertToInteractive(key) {\n",
              "          const element = document.querySelector('#df-2f81c592-5f3f-4364-a542-c09e9f13bf9c');\n",
              "          const dataTable =\n",
              "            await google.colab.kernel.invokeFunction('convertToInteractive',\n",
              "                                                     [key], {});\n",
              "          if (!dataTable) return;\n",
              "\n",
              "          const docLinkHtml = 'Like what you see? Visit the ' +\n",
              "            '<a target=\"_blank\" href=https://colab.research.google.com/notebooks/data_table.ipynb>data table notebook</a>'\n",
              "            + ' to learn more about interactive tables.';\n",
              "          element.innerHTML = '';\n",
              "          dataTable['output_type'] = 'display_data';\n",
              "          await google.colab.output.renderOutput(dataTable, element);\n",
              "          const docLink = document.createElement('div');\n",
              "          docLink.innerHTML = docLinkHtml;\n",
              "          element.appendChild(docLink);\n",
              "        }\n",
              "      </script>\n",
              "    </div>\n",
              "  </div>\n",
              "  "
            ]
          },
          "metadata": {},
          "execution_count": 52
        }
      ]
    },
    {
      "cell_type": "code",
      "source": [
        "x.shape"
      ],
      "metadata": {
        "colab": {
          "base_uri": "https://localhost:8080/"
        },
        "id": "bTWosUkWqZyG",
        "outputId": "8b8f8d86-544e-414e-fa18-d8232c495464"
      },
      "execution_count": 53,
      "outputs": [
        {
          "output_type": "execute_result",
          "data": {
            "text/plain": [
              "(1185572, 597)"
            ]
          },
          "metadata": {},
          "execution_count": 53
        }
      ]
    },
    {
      "cell_type": "markdown",
      "source": [
        "**4.2.1 Standarization**"
      ],
      "metadata": {
        "id": "BuOZc5O6GUJz"
      }
    },
    {
      "cell_type": "markdown",
      "source": [
        "Standardization is used on the data values that are normally distributed. Further, by applying standardization, we tend to make the mean of the dataset as 0 and the standard deviation equivalent to 1.\n",
        "\n",
        "That is, by standardizing the values, we get the following statistics of the data distribution\n",
        "\n",
        "mean = 0\n",
        "standard deviation = 1\n",
        "\n",
        "Thus, by this the data set becomes self explanatory and easy to analyze as the mean turns down to 0 and it happens to have an unit variance.\n",
        "\n",
        "References: https://www.askpython.com/python/examples/standardize-data-in-python#:~:text=Ways%20to%20Standardize%20Data%20in%20Python%201%201.,load_iris%20...%202%202.%20Using%20StandardScaler%20%28%29%20function"
      ],
      "metadata": {
        "id": "B4NxpFrsHDmP"
      }
    },
    {
      "cell_type": "code",
      "source": [
        "from sklearn.preprocessing import StandardScaler\n",
        "std_scale = StandardScaler().fit_transform(x)\n",
        "std_scale = pd.DataFrame(std_scale)\n",
        "std_scale"
      ],
      "metadata": {
        "id": "GR-GhzRXGRNg"
      },
      "execution_count": null,
      "outputs": []
    },
    {
      "cell_type": "markdown",
      "source": [
        "**4.2.2 Normalization**\n",
        "\n",
        "A way to normalize the input features/variables is the Min-Max scaler. By doing so, all features will be transformed into the range [0,1] meaning that the minimum and maximum value of a feature/variable is going to be 0 and 1, respectively.\n",
        "\n",
        "The main idea behind normalization/standardization is always the same. Variables that are measured at different scales do not contribute equally to the model fitting & model learned function and might end up creating a bias. Thus, to deal with this potential problem feature-wise normalization such as MinMax Scaling is usually used prior to model fitting.\n",
        "\n",
        "reference : https://stackoverflow.com/questions/62178888/can-someone-explain-to-me-how-minmaxscaler-works\n"
      ],
      "metadata": {
        "id": "AdhBeaKIFLfN"
      }
    },
    {
      "cell_type": "code",
      "source": [
        "from sklearn.preprocessing import MinMaxScaler\n",
        "x = MinMaxScaler().fit_transform(x)\n",
        "x = pd.DataFrame(x)\n",
        "x"
      ],
      "metadata": {
        "id": "gtFKYb9DlEhV",
        "colab": {
          "base_uri": "https://localhost:8080/",
          "height": 423
        },
        "outputId": "3a7bc318-989a-4259-def3-31b1394bc8f4"
      },
      "execution_count": null,
      "outputs": [
        {
          "output_type": "execute_result",
          "data": {
            "text/plain": [
              "              0         1         2    3    4    5    6    7    8    9    ...  \\\n",
              "0        0.500000  0.500000  0.051948  0.0  0.0  0.0  1.0  0.0  0.0  0.0  ...   \n",
              "1        0.785714  0.785714  0.090909  0.0  0.0  0.0  0.0  0.0  1.0  0.0  ...   \n",
              "2        0.785714  0.785714  0.129870  0.0  0.0  0.0  0.0  0.0  0.0  0.0  ...   \n",
              "3        0.714286  0.714286  0.155844  0.0  0.0  0.0  0.0  0.0  0.0  0.0  ...   \n",
              "4        0.214286  0.214286  0.324675  0.0  0.0  0.0  0.0  0.0  0.0  0.0  ...   \n",
              "...           ...       ...       ...  ...  ...  ...  ...  ...  ...  ...  ...   \n",
              "1185567  0.928571  0.928571  0.714286  0.0  0.0  0.0  0.0  0.0  0.0  0.0  ...   \n",
              "1185568  0.928571  0.928571  0.714286  0.0  0.0  0.0  0.0  0.0  0.0  0.0  ...   \n",
              "1185569  0.714286  0.714286  0.233766  0.0  0.0  0.0  0.0  0.0  0.0  0.0  ...   \n",
              "1185570  0.928571  0.928571  0.714286  0.0  0.0  0.0  0.0  0.0  0.0  0.0  ...   \n",
              "1185571  0.857143  0.857143  0.558442  0.0  0.0  0.0  0.0  0.0  0.0  0.0  ...   \n",
              "\n",
              "         570  571  572  573  574  575  576  577  578  579  \n",
              "0        0.0  0.0  0.0  0.0  1.0  0.0  0.0  0.0  0.0  0.0  \n",
              "1        0.0  0.0  0.0  0.0  0.0  0.0  0.0  0.0  1.0  0.0  \n",
              "2        0.0  0.0  0.0  0.0  0.0  0.0  0.0  0.0  1.0  0.0  \n",
              "3        0.0  0.0  0.0  1.0  0.0  0.0  0.0  0.0  0.0  0.0  \n",
              "4        0.0  0.0  0.0  0.0  0.0  1.0  0.0  0.0  0.0  0.0  \n",
              "...      ...  ...  ...  ...  ...  ...  ...  ...  ...  ...  \n",
              "1185567  0.0  0.0  0.0  0.0  0.0  0.0  0.0  0.0  0.0  1.0  \n",
              "1185568  0.0  0.0  0.0  0.0  0.0  0.0  0.0  0.0  0.0  1.0  \n",
              "1185569  0.0  0.0  0.0  0.0  0.0  1.0  0.0  0.0  0.0  0.0  \n",
              "1185570  0.0  0.0  0.0  0.0  0.0  1.0  0.0  0.0  0.0  0.0  \n",
              "1185571  0.0  0.0  0.0  0.0  0.0  0.0  0.0  0.0  1.0  0.0  \n",
              "\n",
              "[1185572 rows x 580 columns]"
            ],
            "text/html": [
              "\n",
              "  <div id=\"df-eeb24732-9f1c-4751-b320-317e8d4d9407\">\n",
              "    <div class=\"colab-df-container\">\n",
              "      <div>\n",
              "<style scoped>\n",
              "    .dataframe tbody tr th:only-of-type {\n",
              "        vertical-align: middle;\n",
              "    }\n",
              "\n",
              "    .dataframe tbody tr th {\n",
              "        vertical-align: top;\n",
              "    }\n",
              "\n",
              "    .dataframe thead th {\n",
              "        text-align: right;\n",
              "    }\n",
              "</style>\n",
              "<table border=\"1\" class=\"dataframe\">\n",
              "  <thead>\n",
              "    <tr style=\"text-align: right;\">\n",
              "      <th></th>\n",
              "      <th>0</th>\n",
              "      <th>1</th>\n",
              "      <th>2</th>\n",
              "      <th>3</th>\n",
              "      <th>4</th>\n",
              "      <th>5</th>\n",
              "      <th>6</th>\n",
              "      <th>7</th>\n",
              "      <th>8</th>\n",
              "      <th>9</th>\n",
              "      <th>...</th>\n",
              "      <th>570</th>\n",
              "      <th>571</th>\n",
              "      <th>572</th>\n",
              "      <th>573</th>\n",
              "      <th>574</th>\n",
              "      <th>575</th>\n",
              "      <th>576</th>\n",
              "      <th>577</th>\n",
              "      <th>578</th>\n",
              "      <th>579</th>\n",
              "    </tr>\n",
              "  </thead>\n",
              "  <tbody>\n",
              "    <tr>\n",
              "      <th>0</th>\n",
              "      <td>0.500000</td>\n",
              "      <td>0.500000</td>\n",
              "      <td>0.051948</td>\n",
              "      <td>0.0</td>\n",
              "      <td>0.0</td>\n",
              "      <td>0.0</td>\n",
              "      <td>1.0</td>\n",
              "      <td>0.0</td>\n",
              "      <td>0.0</td>\n",
              "      <td>0.0</td>\n",
              "      <td>...</td>\n",
              "      <td>0.0</td>\n",
              "      <td>0.0</td>\n",
              "      <td>0.0</td>\n",
              "      <td>0.0</td>\n",
              "      <td>1.0</td>\n",
              "      <td>0.0</td>\n",
              "      <td>0.0</td>\n",
              "      <td>0.0</td>\n",
              "      <td>0.0</td>\n",
              "      <td>0.0</td>\n",
              "    </tr>\n",
              "    <tr>\n",
              "      <th>1</th>\n",
              "      <td>0.785714</td>\n",
              "      <td>0.785714</td>\n",
              "      <td>0.090909</td>\n",
              "      <td>0.0</td>\n",
              "      <td>0.0</td>\n",
              "      <td>0.0</td>\n",
              "      <td>0.0</td>\n",
              "      <td>0.0</td>\n",
              "      <td>1.0</td>\n",
              "      <td>0.0</td>\n",
              "      <td>...</td>\n",
              "      <td>0.0</td>\n",
              "      <td>0.0</td>\n",
              "      <td>0.0</td>\n",
              "      <td>0.0</td>\n",
              "      <td>0.0</td>\n",
              "      <td>0.0</td>\n",
              "      <td>0.0</td>\n",
              "      <td>0.0</td>\n",
              "      <td>1.0</td>\n",
              "      <td>0.0</td>\n",
              "    </tr>\n",
              "    <tr>\n",
              "      <th>2</th>\n",
              "      <td>0.785714</td>\n",
              "      <td>0.785714</td>\n",
              "      <td>0.129870</td>\n",
              "      <td>0.0</td>\n",
              "      <td>0.0</td>\n",
              "      <td>0.0</td>\n",
              "      <td>0.0</td>\n",
              "      <td>0.0</td>\n",
              "      <td>0.0</td>\n",
              "      <td>0.0</td>\n",
              "      <td>...</td>\n",
              "      <td>0.0</td>\n",
              "      <td>0.0</td>\n",
              "      <td>0.0</td>\n",
              "      <td>0.0</td>\n",
              "      <td>0.0</td>\n",
              "      <td>0.0</td>\n",
              "      <td>0.0</td>\n",
              "      <td>0.0</td>\n",
              "      <td>1.0</td>\n",
              "      <td>0.0</td>\n",
              "    </tr>\n",
              "    <tr>\n",
              "      <th>3</th>\n",
              "      <td>0.714286</td>\n",
              "      <td>0.714286</td>\n",
              "      <td>0.155844</td>\n",
              "      <td>0.0</td>\n",
              "      <td>0.0</td>\n",
              "      <td>0.0</td>\n",
              "      <td>0.0</td>\n",
              "      <td>0.0</td>\n",
              "      <td>0.0</td>\n",
              "      <td>0.0</td>\n",
              "      <td>...</td>\n",
              "      <td>0.0</td>\n",
              "      <td>0.0</td>\n",
              "      <td>0.0</td>\n",
              "      <td>1.0</td>\n",
              "      <td>0.0</td>\n",
              "      <td>0.0</td>\n",
              "      <td>0.0</td>\n",
              "      <td>0.0</td>\n",
              "      <td>0.0</td>\n",
              "      <td>0.0</td>\n",
              "    </tr>\n",
              "    <tr>\n",
              "      <th>4</th>\n",
              "      <td>0.214286</td>\n",
              "      <td>0.214286</td>\n",
              "      <td>0.324675</td>\n",
              "      <td>0.0</td>\n",
              "      <td>0.0</td>\n",
              "      <td>0.0</td>\n",
              "      <td>0.0</td>\n",
              "      <td>0.0</td>\n",
              "      <td>0.0</td>\n",
              "      <td>0.0</td>\n",
              "      <td>...</td>\n",
              "      <td>0.0</td>\n",
              "      <td>0.0</td>\n",
              "      <td>0.0</td>\n",
              "      <td>0.0</td>\n",
              "      <td>0.0</td>\n",
              "      <td>1.0</td>\n",
              "      <td>0.0</td>\n",
              "      <td>0.0</td>\n",
              "      <td>0.0</td>\n",
              "      <td>0.0</td>\n",
              "    </tr>\n",
              "    <tr>\n",
              "      <th>...</th>\n",
              "      <td>...</td>\n",
              "      <td>...</td>\n",
              "      <td>...</td>\n",
              "      <td>...</td>\n",
              "      <td>...</td>\n",
              "      <td>...</td>\n",
              "      <td>...</td>\n",
              "      <td>...</td>\n",
              "      <td>...</td>\n",
              "      <td>...</td>\n",
              "      <td>...</td>\n",
              "      <td>...</td>\n",
              "      <td>...</td>\n",
              "      <td>...</td>\n",
              "      <td>...</td>\n",
              "      <td>...</td>\n",
              "      <td>...</td>\n",
              "      <td>...</td>\n",
              "      <td>...</td>\n",
              "      <td>...</td>\n",
              "      <td>...</td>\n",
              "    </tr>\n",
              "    <tr>\n",
              "      <th>1185567</th>\n",
              "      <td>0.928571</td>\n",
              "      <td>0.928571</td>\n",
              "      <td>0.714286</td>\n",
              "      <td>0.0</td>\n",
              "      <td>0.0</td>\n",
              "      <td>0.0</td>\n",
              "      <td>0.0</td>\n",
              "      <td>0.0</td>\n",
              "      <td>0.0</td>\n",
              "      <td>0.0</td>\n",
              "      <td>...</td>\n",
              "      <td>0.0</td>\n",
              "      <td>0.0</td>\n",
              "      <td>0.0</td>\n",
              "      <td>0.0</td>\n",
              "      <td>0.0</td>\n",
              "      <td>0.0</td>\n",
              "      <td>0.0</td>\n",
              "      <td>0.0</td>\n",
              "      <td>0.0</td>\n",
              "      <td>1.0</td>\n",
              "    </tr>\n",
              "    <tr>\n",
              "      <th>1185568</th>\n",
              "      <td>0.928571</td>\n",
              "      <td>0.928571</td>\n",
              "      <td>0.714286</td>\n",
              "      <td>0.0</td>\n",
              "      <td>0.0</td>\n",
              "      <td>0.0</td>\n",
              "      <td>0.0</td>\n",
              "      <td>0.0</td>\n",
              "      <td>0.0</td>\n",
              "      <td>0.0</td>\n",
              "      <td>...</td>\n",
              "      <td>0.0</td>\n",
              "      <td>0.0</td>\n",
              "      <td>0.0</td>\n",
              "      <td>0.0</td>\n",
              "      <td>0.0</td>\n",
              "      <td>0.0</td>\n",
              "      <td>0.0</td>\n",
              "      <td>0.0</td>\n",
              "      <td>0.0</td>\n",
              "      <td>1.0</td>\n",
              "    </tr>\n",
              "    <tr>\n",
              "      <th>1185569</th>\n",
              "      <td>0.714286</td>\n",
              "      <td>0.714286</td>\n",
              "      <td>0.233766</td>\n",
              "      <td>0.0</td>\n",
              "      <td>0.0</td>\n",
              "      <td>0.0</td>\n",
              "      <td>0.0</td>\n",
              "      <td>0.0</td>\n",
              "      <td>0.0</td>\n",
              "      <td>0.0</td>\n",
              "      <td>...</td>\n",
              "      <td>0.0</td>\n",
              "      <td>0.0</td>\n",
              "      <td>0.0</td>\n",
              "      <td>0.0</td>\n",
              "      <td>0.0</td>\n",
              "      <td>1.0</td>\n",
              "      <td>0.0</td>\n",
              "      <td>0.0</td>\n",
              "      <td>0.0</td>\n",
              "      <td>0.0</td>\n",
              "    </tr>\n",
              "    <tr>\n",
              "      <th>1185570</th>\n",
              "      <td>0.928571</td>\n",
              "      <td>0.928571</td>\n",
              "      <td>0.714286</td>\n",
              "      <td>0.0</td>\n",
              "      <td>0.0</td>\n",
              "      <td>0.0</td>\n",
              "      <td>0.0</td>\n",
              "      <td>0.0</td>\n",
              "      <td>0.0</td>\n",
              "      <td>0.0</td>\n",
              "      <td>...</td>\n",
              "      <td>0.0</td>\n",
              "      <td>0.0</td>\n",
              "      <td>0.0</td>\n",
              "      <td>0.0</td>\n",
              "      <td>0.0</td>\n",
              "      <td>1.0</td>\n",
              "      <td>0.0</td>\n",
              "      <td>0.0</td>\n",
              "      <td>0.0</td>\n",
              "      <td>0.0</td>\n",
              "    </tr>\n",
              "    <tr>\n",
              "      <th>1185571</th>\n",
              "      <td>0.857143</td>\n",
              "      <td>0.857143</td>\n",
              "      <td>0.558442</td>\n",
              "      <td>0.0</td>\n",
              "      <td>0.0</td>\n",
              "      <td>0.0</td>\n",
              "      <td>0.0</td>\n",
              "      <td>0.0</td>\n",
              "      <td>0.0</td>\n",
              "      <td>0.0</td>\n",
              "      <td>...</td>\n",
              "      <td>0.0</td>\n",
              "      <td>0.0</td>\n",
              "      <td>0.0</td>\n",
              "      <td>0.0</td>\n",
              "      <td>0.0</td>\n",
              "      <td>0.0</td>\n",
              "      <td>0.0</td>\n",
              "      <td>0.0</td>\n",
              "      <td>1.0</td>\n",
              "      <td>0.0</td>\n",
              "    </tr>\n",
              "  </tbody>\n",
              "</table>\n",
              "<p>1185572 rows × 580 columns</p>\n",
              "</div>\n",
              "      <button class=\"colab-df-convert\" onclick=\"convertToInteractive('df-eeb24732-9f1c-4751-b320-317e8d4d9407')\"\n",
              "              title=\"Convert this dataframe to an interactive table.\"\n",
              "              style=\"display:none;\">\n",
              "        \n",
              "  <svg xmlns=\"http://www.w3.org/2000/svg\" height=\"24px\"viewBox=\"0 0 24 24\"\n",
              "       width=\"24px\">\n",
              "    <path d=\"M0 0h24v24H0V0z\" fill=\"none\"/>\n",
              "    <path d=\"M18.56 5.44l.94 2.06.94-2.06 2.06-.94-2.06-.94-.94-2.06-.94 2.06-2.06.94zm-11 1L8.5 8.5l.94-2.06 2.06-.94-2.06-.94L8.5 2.5l-.94 2.06-2.06.94zm10 10l.94 2.06.94-2.06 2.06-.94-2.06-.94-.94-2.06-.94 2.06-2.06.94z\"/><path d=\"M17.41 7.96l-1.37-1.37c-.4-.4-.92-.59-1.43-.59-.52 0-1.04.2-1.43.59L10.3 9.45l-7.72 7.72c-.78.78-.78 2.05 0 2.83L4 21.41c.39.39.9.59 1.41.59.51 0 1.02-.2 1.41-.59l7.78-7.78 2.81-2.81c.8-.78.8-2.07 0-2.86zM5.41 20L4 18.59l7.72-7.72 1.47 1.35L5.41 20z\"/>\n",
              "  </svg>\n",
              "      </button>\n",
              "      \n",
              "  <style>\n",
              "    .colab-df-container {\n",
              "      display:flex;\n",
              "      flex-wrap:wrap;\n",
              "      gap: 12px;\n",
              "    }\n",
              "\n",
              "    .colab-df-convert {\n",
              "      background-color: #E8F0FE;\n",
              "      border: none;\n",
              "      border-radius: 50%;\n",
              "      cursor: pointer;\n",
              "      display: none;\n",
              "      fill: #1967D2;\n",
              "      height: 32px;\n",
              "      padding: 0 0 0 0;\n",
              "      width: 32px;\n",
              "    }\n",
              "\n",
              "    .colab-df-convert:hover {\n",
              "      background-color: #E2EBFA;\n",
              "      box-shadow: 0px 1px 2px rgba(60, 64, 67, 0.3), 0px 1px 3px 1px rgba(60, 64, 67, 0.15);\n",
              "      fill: #174EA6;\n",
              "    }\n",
              "\n",
              "    [theme=dark] .colab-df-convert {\n",
              "      background-color: #3B4455;\n",
              "      fill: #D2E3FC;\n",
              "    }\n",
              "\n",
              "    [theme=dark] .colab-df-convert:hover {\n",
              "      background-color: #434B5C;\n",
              "      box-shadow: 0px 1px 3px 1px rgba(0, 0, 0, 0.15);\n",
              "      filter: drop-shadow(0px 1px 2px rgba(0, 0, 0, 0.3));\n",
              "      fill: #FFFFFF;\n",
              "    }\n",
              "  </style>\n",
              "\n",
              "      <script>\n",
              "        const buttonEl =\n",
              "          document.querySelector('#df-eeb24732-9f1c-4751-b320-317e8d4d9407 button.colab-df-convert');\n",
              "        buttonEl.style.display =\n",
              "          google.colab.kernel.accessAllowed ? 'block' : 'none';\n",
              "\n",
              "        async function convertToInteractive(key) {\n",
              "          const element = document.querySelector('#df-eeb24732-9f1c-4751-b320-317e8d4d9407');\n",
              "          const dataTable =\n",
              "            await google.colab.kernel.invokeFunction('convertToInteractive',\n",
              "                                                     [key], {});\n",
              "          if (!dataTable) return;\n",
              "\n",
              "          const docLinkHtml = 'Like what you see? Visit the ' +\n",
              "            '<a target=\"_blank\" href=https://colab.research.google.com/notebooks/data_table.ipynb>data table notebook</a>'\n",
              "            + ' to learn more about interactive tables.';\n",
              "          element.innerHTML = '';\n",
              "          dataTable['output_type'] = 'display_data';\n",
              "          await google.colab.output.renderOutput(dataTable, element);\n",
              "          const docLink = document.createElement('div');\n",
              "          docLink.innerHTML = docLinkHtml;\n",
              "          element.appendChild(docLink);\n",
              "        }\n",
              "      </script>\n",
              "    </div>\n",
              "  </div>\n",
              "  "
            ]
          },
          "metadata": {},
          "execution_count": 56
        }
      ]
    },
    {
      "cell_type": "markdown",
      "source": [
        "4.3 Splitting\n"
      ],
      "metadata": {
        "id": "U5mVChyqI7e9"
      }
    },
    {
      "cell_type": "markdown",
      "source": [
        "prosedur ini dilakukan untuk memperkirakan kinerja algoritme pembelajaran mesin saat digunakan untuk membuat prediksi pada data yang tidak digunakan untuk melatih model"
      ],
      "metadata": {
        "id": "tMmjknOA2TW7"
      }
    },
    {
      "cell_type": "markdown",
      "source": [
        "Train test split digunakan untuk membagi data"
      ],
      "metadata": {
        "id": "aVS7SoXv8PGH"
      }
    },
    {
      "cell_type": "code",
      "source": [
        "from sklearn.model_selection import train_test_split\n",
        "xTrain, xTest, yTrain, yTest = train_test_split(x, y, train_size=0.8, random_state=1, stratify=y)"
      ],
      "metadata": {
        "id": "sTMC5XK17OUW"
      },
      "execution_count": null,
      "outputs": []
    },
    {
      "cell_type": "code",
      "source": [
        "from sklearn.datasets import make_blobs\n",
        "from sklearn.model_selection import train_test_split\n",
        "x,y = make_blobs(n_samples=1000)\n",
        "xTrain, xTest, yTrain, yTest = train_test_split(x, y, test_size=0.33, random_state=1, stratify=y)"
      ],
      "metadata": {
        "id": "ACJMGLAHigHI"
      },
      "execution_count": null,
      "outputs": []
    },
    {
      "cell_type": "code",
      "source": [
        "from collections import Counter\n",
        "print(\"Train distribution\", Counter(yTrain))\n",
        "print(\"Test distribution\", Counter(yTest))"
      ],
      "metadata": {
        "colab": {
          "base_uri": "https://localhost:8080/"
        },
        "id": "sSICmqDpMomI",
        "outputId": "5bcedd14-1232-4413-cce3-6246cfa0a34a"
      },
      "execution_count": null,
      "outputs": [
        {
          "output_type": "stream",
          "name": "stdout",
          "text": [
            "Train distribution Counter({0: 224, 1: 223, 2: 223})\n",
            "Test distribution Counter({0: 110, 1: 110, 2: 110})\n"
          ]
        }
      ]
    },
    {
      "cell_type": "markdown",
      "source": [
        "This stratify parameter makes a split so that the proportion of values in the sample produced will be the same as the proportion of values provided to parameter stratify.\n",
        "\n",
        "For example, if variable y is a binary categorical variable with values 0 and 1 and there are 25% of zeros and 75% of ones, stratify=y will make sure that your random split has 25% of 0's and 75% of 1's.\n",
        "\n",
        "For more: https://stackoverflow.com/questions/34842405/parameter-stratify-from-method-train-test-split-scikit-learn"
      ],
      "metadata": {
        "id": "QyCbWtbCI3v5"
      }
    },
    {
      "cell_type": "markdown",
      "source": [
        "Tugas praktekkan dengan dataset yg berbeda dari kaggle dan upload di github\n"
      ],
      "metadata": {
        "id": "an04NDqXOUHT"
      }
    },
    {
      "cell_type": "code",
      "source": [
        "from sklearn.linear_model import LogisticRegression\n",
        "\n",
        "models = []\n",
        "models.append(('LR', LogisticRegression()))"
      ],
      "metadata": {
        "id": "-9rDCS2vNw0D"
      },
      "execution_count": null,
      "outputs": []
    },
    {
      "cell_type": "code",
      "source": [
        "results_c = []\n",
        "names_c = []\n",
        "\n",
        "for name, model in models:\n",
        "    # define how to split off validation data ('kfold' how many folds)\n",
        "    kfold = KFold(n_splits=10)    \n",
        "    # train the model\n",
        "    cv_results = cross_val_score(model, xTrain, yTrain, cv=kfold, scoring='accuracy')    \n",
        "    results_c.append(cv_results)\n",
        "    names_c.append(name)\n",
        "    msg = \"%s: %f (%f)\" % (name, cv_results.mean(), cv_results.std())\n",
        "    print(msg)"
      ],
      "metadata": {
        "colab": {
          "base_uri": "https://localhost:8080/"
        },
        "id": "4_yApp8fqKar",
        "outputId": "fc8a366b-98cc-433d-a0a4-45b5fb9ce7cd"
      },
      "execution_count": null,
      "outputs": [
        {
          "output_type": "stream",
          "name": "stdout",
          "text": [
            "LR: 0.998507 (0.004478)\n"
          ]
        }
      ]
    },
    {
      "cell_type": "code",
      "source": [
        "LR = LogisticRegression()\n",
        "LR.fit(xTrain, yTrain)"
      ],
      "metadata": {
        "colab": {
          "base_uri": "https://localhost:8080/",
          "height": 74
        },
        "id": "xQ1qS0elrBK6",
        "outputId": "6bea4641-230a-40fe-dd11-dc775d5f3fc1"
      },
      "execution_count": null,
      "outputs": [
        {
          "output_type": "execute_result",
          "data": {
            "text/plain": [
              "LogisticRegression()"
            ],
            "text/html": [
              "<style>#sk-container-id-3 {color: black;background-color: white;}#sk-container-id-3 pre{padding: 0;}#sk-container-id-3 div.sk-toggleable {background-color: white;}#sk-container-id-3 label.sk-toggleable__label {cursor: pointer;display: block;width: 100%;margin-bottom: 0;padding: 0.3em;box-sizing: border-box;text-align: center;}#sk-container-id-3 label.sk-toggleable__label-arrow:before {content: \"▸\";float: left;margin-right: 0.25em;color: #696969;}#sk-container-id-3 label.sk-toggleable__label-arrow:hover:before {color: black;}#sk-container-id-3 div.sk-estimator:hover label.sk-toggleable__label-arrow:before {color: black;}#sk-container-id-3 div.sk-toggleable__content {max-height: 0;max-width: 0;overflow: hidden;text-align: left;background-color: #f0f8ff;}#sk-container-id-3 div.sk-toggleable__content pre {margin: 0.2em;color: black;border-radius: 0.25em;background-color: #f0f8ff;}#sk-container-id-3 input.sk-toggleable__control:checked~div.sk-toggleable__content {max-height: 200px;max-width: 100%;overflow: auto;}#sk-container-id-3 input.sk-toggleable__control:checked~label.sk-toggleable__label-arrow:before {content: \"▾\";}#sk-container-id-3 div.sk-estimator input.sk-toggleable__control:checked~label.sk-toggleable__label {background-color: #d4ebff;}#sk-container-id-3 div.sk-label input.sk-toggleable__control:checked~label.sk-toggleable__label {background-color: #d4ebff;}#sk-container-id-3 input.sk-hidden--visually {border: 0;clip: rect(1px 1px 1px 1px);clip: rect(1px, 1px, 1px, 1px);height: 1px;margin: -1px;overflow: hidden;padding: 0;position: absolute;width: 1px;}#sk-container-id-3 div.sk-estimator {font-family: monospace;background-color: #f0f8ff;border: 1px dotted black;border-radius: 0.25em;box-sizing: border-box;margin-bottom: 0.5em;}#sk-container-id-3 div.sk-estimator:hover {background-color: #d4ebff;}#sk-container-id-3 div.sk-parallel-item::after {content: \"\";width: 100%;border-bottom: 1px solid gray;flex-grow: 1;}#sk-container-id-3 div.sk-label:hover label.sk-toggleable__label {background-color: #d4ebff;}#sk-container-id-3 div.sk-serial::before {content: \"\";position: absolute;border-left: 1px solid gray;box-sizing: border-box;top: 0;bottom: 0;left: 50%;z-index: 0;}#sk-container-id-3 div.sk-serial {display: flex;flex-direction: column;align-items: center;background-color: white;padding-right: 0.2em;padding-left: 0.2em;position: relative;}#sk-container-id-3 div.sk-item {position: relative;z-index: 1;}#sk-container-id-3 div.sk-parallel {display: flex;align-items: stretch;justify-content: center;background-color: white;position: relative;}#sk-container-id-3 div.sk-item::before, #sk-container-id-3 div.sk-parallel-item::before {content: \"\";position: absolute;border-left: 1px solid gray;box-sizing: border-box;top: 0;bottom: 0;left: 50%;z-index: -1;}#sk-container-id-3 div.sk-parallel-item {display: flex;flex-direction: column;z-index: 1;position: relative;background-color: white;}#sk-container-id-3 div.sk-parallel-item:first-child::after {align-self: flex-end;width: 50%;}#sk-container-id-3 div.sk-parallel-item:last-child::after {align-self: flex-start;width: 50%;}#sk-container-id-3 div.sk-parallel-item:only-child::after {width: 0;}#sk-container-id-3 div.sk-dashed-wrapped {border: 1px dashed gray;margin: 0 0.4em 0.5em 0.4em;box-sizing: border-box;padding-bottom: 0.4em;background-color: white;}#sk-container-id-3 div.sk-label label {font-family: monospace;font-weight: bold;display: inline-block;line-height: 1.2em;}#sk-container-id-3 div.sk-label-container {text-align: center;}#sk-container-id-3 div.sk-container {/* jupyter's `normalize.less` sets `[hidden] { display: none; }` but bootstrap.min.css set `[hidden] { display: none !important; }` so we also need the `!important` here to be able to override the default hidden behavior on the sphinx rendered scikit-learn.org. See: https://github.com/scikit-learn/scikit-learn/issues/21755 */display: inline-block !important;position: relative;}#sk-container-id-3 div.sk-text-repr-fallback {display: none;}</style><div id=\"sk-container-id-3\" class=\"sk-top-container\"><div class=\"sk-text-repr-fallback\"><pre>LogisticRegression()</pre><b>In a Jupyter environment, please rerun this cell to show the HTML representation or trust the notebook. <br />On GitHub, the HTML representation is unable to render, please try loading this page with nbviewer.org.</b></div><div class=\"sk-container\" hidden><div class=\"sk-item\"><div class=\"sk-estimator sk-toggleable\"><input class=\"sk-toggleable__control sk-hidden--visually\" id=\"sk-estimator-id-3\" type=\"checkbox\" checked><label for=\"sk-estimator-id-3\" class=\"sk-toggleable__label sk-toggleable__label-arrow\">LogisticRegression</label><div class=\"sk-toggleable__content\"><pre>LogisticRegression()</pre></div></div></div></div></div>"
            ]
          },
          "metadata": {},
          "execution_count": 62
        }
      ]
    },
    {
      "cell_type": "code",
      "source": [
        "predictions = LR.predict(xTest)\n",
        "print(accuracy_score(yTest, predictions))"
      ],
      "metadata": {
        "id": "08s4bURXrm0U",
        "colab": {
          "base_uri": "https://localhost:8080/"
        },
        "outputId": "ee2d874d-4d0c-426d-c6e2-0f0b4f728eef"
      },
      "execution_count": null,
      "outputs": [
        {
          "output_type": "stream",
          "name": "stdout",
          "text": [
            "1.0\n"
          ]
        }
      ]
    },
    {
      "cell_type": "code",
      "source": [
        "# Confusion Matrix \n",
        "from sklearn.metrics import confusion_matrix\n",
        "import pylab as pl\n",
        "\n",
        "print(confusion_matrix(yTest, predictions))\n",
        "\n",
        "cm = confusion_matrix(yTest, predictions)\n",
        "pl.matshow(cm)\n",
        "pl.title('Confusion matrix of the classifier')\n",
        "pl.colorbar()\n",
        "pl.show()"
      ],
      "metadata": {
        "id": "Wh2-d2uCr17a"
      },
      "execution_count": null,
      "outputs": []
    },
    {
      "cell_type": "code",
      "source": [
        "# Classification Report\n",
        "from sklearn.metrics import classification_report\n",
        "print(classification_report(yTest, predictions))"
      ],
      "metadata": {
        "colab": {
          "base_uri": "https://localhost:8080/"
        },
        "id": "gL6HppHzsRBw",
        "outputId": "725dea17-487b-4b7a-b29a-cfd51e3b23a3"
      },
      "execution_count": null,
      "outputs": [
        {
          "output_type": "stream",
          "name": "stdout",
          "text": [
            "              precision    recall  f1-score   support\n",
            "\n",
            "           0       1.00      1.00      1.00       110\n",
            "           1       1.00      1.00      1.00       110\n",
            "           2       1.00      1.00      1.00       110\n",
            "\n",
            "    accuracy                           1.00       330\n",
            "   macro avg       1.00      1.00      1.00       330\n",
            "weighted avg       1.00      1.00      1.00       330\n",
            "\n"
          ]
        }
      ]
    }
  ],
  "metadata": {
    "accelerator": "TPU",
    "colab": {
      "provenance": [],
      "machine_shape": "hm"
    },
    "kernelspec": {
      "display_name": "Python 3",
      "name": "python3"
    },
    "gpuClass": "premium"
  },
  "nbformat": 4,
  "nbformat_minor": 0
}